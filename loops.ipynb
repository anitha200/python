{
  "nbformat": 4,
  "nbformat_minor": 0,
  "metadata": {
    "colab": {
      "name": "loops",
      "provenance": [],
      "authorship_tag": "ABX9TyPcj1AwwY5dqHnoqBixb7pz",
      "include_colab_link": true
    },
    "kernelspec": {
      "name": "python3",
      "display_name": "Python 3"
    },
    "language_info": {
      "name": "python"
    }
  },
  "cells": [
    {
      "cell_type": "markdown",
      "metadata": {
        "id": "view-in-github",
        "colab_type": "text"
      },
      "source": [
        "<a href=\"https://colab.research.google.com/github/anitha200/python/blob/main/loops.ipynb\" target=\"_parent\"><img src=\"https://colab.research.google.com/assets/colab-badge.svg\" alt=\"Open In Colab\"/></a>"
      ]
    },
    {
      "cell_type": "code",
      "execution_count": null,
      "metadata": {
        "id": "oyEobg810uPm"
      },
      "outputs": [],
      "source": [
        "##lists"
      ]
    },
    {
      "cell_type": "code",
      "source": [
        "#for loop\n",
        "friends=[\"Anitha\",\"mounika\",\"dhanush\",\"bhanu\"]\n",
        "for x in friends:\n",
        "  print(x)\n",
        "\n",
        " "
      ],
      "metadata": {
        "colab": {
          "base_uri": "https://localhost:8080/"
        },
        "id": "fCoeS0Dm02-R",
        "outputId": "06757926-9182-4629-cfa6-efa42d850f84"
      },
      "execution_count": null,
      "outputs": [
        {
          "output_type": "stream",
          "name": "stdout",
          "text": [
            "Anitha\n",
            "mounika\n",
            "dhanush\n",
            "bhanu\n"
          ]
        }
      ]
    },
    {
      "cell_type": "code",
      "source": [
        "#range and len\n",
        "friends=[\"Anitha\",\"mounika\",\"dhanush\",\"bhanu\"]\n",
        "for i in range (len (friends)):\n",
        "  print(friends[i])"
      ],
      "metadata": {
        "colab": {
          "base_uri": "https://localhost:8080/"
        },
        "id": "gKSZdr9q2gGp",
        "outputId": "b5d81bae-0d6e-4885-db64-e4fcef4d37d1"
      },
      "execution_count": null,
      "outputs": [
        {
          "output_type": "stream",
          "name": "stdout",
          "text": [
            "Anitha\n",
            "mounika\n",
            "dhanush\n",
            "bhanu\n"
          ]
        }
      ]
    },
    {
      "cell_type": "code",
      "source": [
        "#while loop\n",
        "friends=[\"Anitha\",\"mounika\",\"dhanush\",\"bhanu\"]\n",
        "i=0\n",
        "while i< len(friends):\n",
        "  print(friends[i])\n",
        "  i=i+1"
      ],
      "metadata": {
        "colab": {
          "base_uri": "https://localhost:8080/"
        },
        "id": "hnfJ4PLz3OSh",
        "outputId": "d81725de-d644-4be1-f5a1-818466f5a957"
      },
      "execution_count": null,
      "outputs": [
        {
          "output_type": "stream",
          "name": "stdout",
          "text": [
            "Anitha\n",
            "mounika\n",
            "dhanush\n",
            "bhanu\n"
          ]
        }
      ]
    },
    {
      "cell_type": "code",
      "source": [
        " #\n",
        "friends =[\"Anitha\",\"mounika\",\"dhanush\",\"bhanu\"]\n",
        "[print(x) for  x in friends]"
      ],
      "metadata": {
        "colab": {
          "base_uri": "https://localhost:8080/"
        },
        "id": "xzc8j6RX38OH",
        "outputId": "e523c6fc-1a74-45d8-fdd5-c61322dabba2"
      },
      "execution_count": null,
      "outputs": [
        {
          "output_type": "stream",
          "name": "stdout",
          "text": [
            "Anitha\n",
            "mounika\n",
            "dhanush\n",
            "bhanu\n"
          ]
        },
        {
          "output_type": "execute_result",
          "data": {
            "text/plain": [
              "[None, None, None, None]"
            ]
          },
          "metadata": {},
          "execution_count": 17
        }
      ]
    },
    {
      "cell_type": "code",
      "source": [
        "##tuples loops"
      ],
      "metadata": {
        "id": "6QENu2Dg44pB"
      },
      "execution_count": null,
      "outputs": []
    },
    {
      "cell_type": "code",
      "source": [
        "#for loop\n",
        "friends =(\"Anitha\",\"mounika\",\"dhanush\",\"bhanu\")\n",
        "for x in friends:\n",
        "  print(x)\n"
      ],
      "metadata": {
        "colab": {
          "base_uri": "https://localhost:8080/"
        },
        "id": "lqXE2T5_46yn",
        "outputId": "16fb1753-daf5-4b3d-df76-59b9987592ea"
      },
      "execution_count": null,
      "outputs": [
        {
          "output_type": "stream",
          "name": "stdout",
          "text": [
            "Anitha\n",
            "mounika\n",
            "dhanush\n",
            "bhanu\n"
          ]
        }
      ]
    },
    {
      "cell_type": "code",
      "source": [
        "#while loop\n",
        "friends=(\"Anitha\",\"mounika\",\"dhanush\",\"bhanu\")\n",
        "i=0\n",
        "while i< len(friends):\n",
        "  print(friends[i])\n",
        "  i=i+1"
      ],
      "metadata": {
        "colab": {
          "base_uri": "https://localhost:8080/"
        },
        "id": "Ap5-gaOC55lw",
        "outputId": "1b596490-316b-44f5-cd20-37e3e8e9f820"
      },
      "execution_count": null,
      "outputs": [
        {
          "output_type": "stream",
          "name": "stdout",
          "text": [
            "Anitha\n",
            "mounika\n",
            "dhanush\n",
            "bhanu\n"
          ]
        }
      ]
    },
    {
      "cell_type": "code",
      "source": [
        "##sets\n",
        "#for loop\n",
        "friends={\"Anitha\",\"mounika\",\"dhanush\",\"bhanu\"}\n",
        "for x in friends:\n",
        "  print(x)\n"
      ],
      "metadata": {
        "colab": {
          "base_uri": "https://localhost:8080/"
        },
        "id": "MW794eDq6S8X",
        "outputId": "210d5654-5f6c-4321-ccdd-95a12f136e1b"
      },
      "execution_count": null,
      "outputs": [
        {
          "output_type": "stream",
          "name": "stdout",
          "text": [
            "bhanu\n",
            "dhanush\n",
            "mounika\n",
            "Anitha\n"
          ]
        }
      ]
    },
    {
      "cell_type": "code",
      "source": [
        "##Loop Dictionaries\n",
        "watch =\t{\n",
        "  \"brand\": \"fossil\",\n",
        "  \"model\": \"cenord\",\n",
        "  \"year\": 2002\n",
        "  }\n",
        "for x in watch:\n",
        "\n",
        "  print(x)\n"
      ],
      "metadata": {
        "id": "gNjTupeo63MD",
        "colab": {
          "base_uri": "https://localhost:8080/"
        },
        "outputId": "d803ef7d-8a62-4ed3-8a59-e54ecfb8347b"
      },
      "execution_count": null,
      "outputs": [
        {
          "output_type": "stream",
          "name": "stdout",
          "text": [
            "brand\n",
            "model\n",
            "year\n"
          ]
        }
      ]
    },
    {
      "cell_type": "code",
      "source": [
        "watch =\t{\n",
        "  \"brand\": \"fossil\",\n",
        "  \"model\": \"cenord\",\n",
        "  \"year\": 2002\n",
        "  }\n",
        "for x in watch:\n",
        "\n",
        "  print(watch[x])\n"
      ],
      "metadata": {
        "colab": {
          "base_uri": "https://localhost:8080/"
        },
        "id": "Z2-5nVpJ-H3w",
        "outputId": "88baf764-5aa3-41d5-c9d3-f12bb0ffcc75"
      },
      "execution_count": null,
      "outputs": [
        {
          "output_type": "stream",
          "name": "stdout",
          "text": [
            "fossil\n",
            "cenord\n",
            "2002\n"
          ]
        }
      ]
    },
    {
      "cell_type": "code",
      "source": [
        "##list comprehension\n",
        "friends=[\"Anitha\",\"mounika\",\"dhanush\",\"bhanu\"]\n",
        "newlist = []\n",
        "for x in friends:\n",
        "  if \"a\" in x:\n",
        "    newlist.append(x)\n",
        "    print(newlist)\n",
        "\n"
      ],
      "metadata": {
        "colab": {
          "base_uri": "https://localhost:8080/"
        },
        "id": "nbptfsqi--hS",
        "outputId": "15186fd2-8b89-4544-eb5a-fddafb0ef8cb"
      },
      "execution_count": null,
      "outputs": [
        {
          "output_type": "stream",
          "name": "stdout",
          "text": [
            "['Anitha']\n",
            "['Anitha', 'mounika']\n",
            "['Anitha', 'mounika', 'dhanush']\n",
            "['Anitha', 'mounika', 'dhanush', 'bhanu']\n"
          ]
        }
      ]
    }
  ]
}