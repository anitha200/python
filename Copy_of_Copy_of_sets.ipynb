{
  "nbformat": 4,
  "nbformat_minor": 0,
  "metadata": {
    "colab": {
      "name": "Copy of Copy of sets",
      "provenance": [],
      "authorship_tag": "ABX9TyN0DGr+1QAYy9vhivE0a0hA",
      "include_colab_link": true
    },
    "kernelspec": {
      "name": "python3",
      "display_name": "Python 3"
    },
    "language_info": {
      "name": "python"
    }
  },
  "cells": [
    {
      "cell_type": "markdown",
      "metadata": {
        "id": "view-in-github",
        "colab_type": "text"
      },
      "source": [
        "<a href=\"https://colab.research.google.com/github/anitha200/python/blob/main/Copy_of_Copy_of_sets.ipynb\" target=\"_parent\"><img src=\"https://colab.research.google.com/assets/colab-badge.svg\" alt=\"Open In Colab\"/></a>"
      ]
    },
    {
      "cell_type": "code",
      "execution_count": null,
      "metadata": {
        "colab": {
          "base_uri": "https://localhost:8080/"
        },
        "id": "ViAtvTYRAQdq",
        "outputId": "aba42ffd-2e31-4ca7-84c3-e37ee86c4568"
      },
      "outputs": [
        {
          "output_type": "stream",
          "name": "stdout",
          "text": [
            "{'rabit', 'lion', 'rat', 'cat'}\n"
          ]
        }
      ],
      "source": [
        "##create a set\n",
        "a={\"rat\",\"cat\",\"rabit\",\"lion\"}\n",
        "print(a)"
      ]
    },
    {
      "cell_type": "code",
      "source": [
        "##duplicates not allowed\n",
        "a={\"rat\",\"cat\",\"rabit\",\"lion\",\"rat\"}\n",
        "print(a)\n",
        "\n",
        "##length of a set\n",
        "a={\"rat\",\"cat\",\"rabit\",\"lion\"}\n",
        "print(len(a))"
      ],
      "metadata": {
        "colab": {
          "base_uri": "https://localhost:8080/"
        },
        "id": "h6l37slABSTL",
        "outputId": "5a476bbc-fd7b-4a64-dee6-cf948e265fb7"
      },
      "execution_count": null,
      "outputs": [
        {
          "output_type": "stream",
          "name": "stdout",
          "text": [
            "{'rabit', 'lion', 'rat', 'cat'}\n",
            "4\n"
          ]
        }
      ]
    },
    {
      "cell_type": "code",
      "source": [
        "##boolean values\n",
        "sets = {\"abc\", 16, True, 17, \"male\"}\n",
        "print(sets)"
      ],
      "metadata": {
        "colab": {
          "base_uri": "https://localhost:8080/"
        },
        "id": "hBgYg0EaCKDM",
        "outputId": "27111e55-aed4-4683-e92b-9ad4677f017c"
      },
      "execution_count": null,
      "outputs": [
        {
          "output_type": "stream",
          "name": "stdout",
          "text": [
            "{True, 'male', 16, 17, 'abc'}\n"
          ]
        }
      ]
    },
    {
      "cell_type": "code",
      "source": [
        "##access set items\n",
        "\n",
        "##for loop\n",
        "a={\"rat\",\"cat\",\"rabit\",\"lion\"}\n",
        "for x in a:\n",
        "  print(x)\n",
        "\n",
        "  ##check lion in that list\n",
        "a={\"rat\",\"cat\",\"rabit\",\"lion\"}\n",
        "print(\"lion\" in a)\n"
      ],
      "metadata": {
        "colab": {
          "base_uri": "https://localhost:8080/"
        },
        "id": "_loaTaBvIUkj",
        "outputId": "ed8ca6fb-4ec9-4fc1-98ed-f50270c1c8c1"
      },
      "execution_count": null,
      "outputs": [
        {
          "output_type": "stream",
          "name": "stdout",
          "text": [
            "lion\n",
            "cat\n",
            "rat\n",
            "rabit\n",
            "True\n"
          ]
        }
      ]
    },
    {
      "cell_type": "code",
      "source": [
        "##add set items\n",
        "\n",
        "#add method\n",
        "a={\"rat\",\"cat\",\"rabit\",\"lion\"}\n",
        "a.add(\"parrot\")\n",
        "print(a)\n",
        "\n",
        "##To add items from another set into the current set, use the update() method.\n",
        "a={\"rat\",\"cat\",\"rabit\",\"lion\"}\n",
        "b={\"ant\",\"dog\",\"tiger\",\"elephant\"}\n",
        "a.update(b)\n",
        "print(a)\n",
        "\n",
        "##The object in the update() method does not have to be a set, it can be any iterable object (tuples, lists, dictionaries etc.\n",
        "a={\"rat\",\"cat\",\"rabit\",\"lion\"}\n",
        "b=[\"ant\",\"dog\",\"tiger\",\"elephant\"]\n",
        "a.update(b)\n",
        "print(a)"
      ],
      "metadata": {
        "colab": {
          "base_uri": "https://localhost:8080/"
        },
        "id": "auQKEl27KJ6P",
        "outputId": "cbc0ff29-9bab-47d5-b05c-f91117732950"
      },
      "execution_count": null,
      "outputs": [
        {
          "output_type": "stream",
          "name": "stdout",
          "text": [
            "{'lion', 'parrot', 'rabit', 'rat', 'cat'}\n",
            "{'lion', 'elephant', 'tiger', 'ant', 'dog', 'rabit', 'rat', 'cat'}\n",
            "{'lion', 'elephant', 'tiger', 'ant', 'dog', 'rabit', 'rat', 'cat'}\n"
          ]
        }
      ]
    },
    {
      "cell_type": "code",
      "source": [
        "##remove set items\n",
        "#use remove or dicard\n",
        "a={\"ant\",\"cat\",\"rat\",\"lion\"}\n",
        "a.remove(\"cat\")\n",
        "print(a)\n",
        "\n",
        "##pop method\n",
        "a={\"ant\",\"cat\",\"rat\",\"lion\"}\n",
        "x=a.pop()\n",
        "print(x)\n",
        "print(a)\n",
        "\n",
        "##clear method\n",
        "a={\"ant\",\"cat\",\"rat\",\"lion\"}\n",
        "a.clear()\n",
        "print(a)\n"
      ],
      "metadata": {
        "colab": {
          "base_uri": "https://localhost:8080/"
        },
        "id": "dUc6g86rL0HQ",
        "outputId": "473cc527-1081-42e2-f401-36c328c1ed4e"
      },
      "execution_count": null,
      "outputs": [
        {
          "output_type": "stream",
          "name": "stdout",
          "text": [
            "{'rat', 'lion', 'ant'}\n",
            "rat\n",
            "{'lion', 'cat', 'ant'}\n",
            "set()\n"
          ]
        }
      ]
    },
    {
      "cell_type": "code",
      "source": [
        "##loop sets\n",
        "a={\"rat\",\"cat\",\"rabit\",\"lion\"}\n",
        "for x in a:\n",
        "  print(x)\n",
        "\n"
      ],
      "metadata": {
        "colab": {
          "base_uri": "https://localhost:8080/"
        },
        "id": "ZYctUNNOO-w2",
        "outputId": "a9434d5f-b0cd-4a7d-eb24-7667d95a53bf"
      },
      "execution_count": null,
      "outputs": [
        {
          "output_type": "stream",
          "name": "stdout",
          "text": [
            "lion\n",
            "cat\n",
            "rat\n",
            "rabit\n"
          ]
        }
      ]
    },
    {
      "cell_type": "code",
      "source": [
        "##join sets\n",
        "\n",
        "#union method\n",
        "a={\"rat\",\"cat\",\"rabit\",\"lion\"}\n",
        "b={2,7,2}\n",
        "c=a.union(b)\n",
        "print(c)\n",
        "\n",
        "#update method\n",
        "a={\"rat\",\"cat\",\"rabit\",\"lion\"}\n",
        "b={2,7,2,16,17}\n",
        "a.update(b)\n",
        "print(a)"
      ],
      "metadata": {
        "colab": {
          "base_uri": "https://localhost:8080/"
        },
        "id": "8yjNWyzlPNGv",
        "outputId": "2741a959-6e36-4aa2-afc7-932a1a282813"
      },
      "execution_count": null,
      "outputs": [
        {
          "output_type": "stream",
          "name": "stdout",
          "text": [
            "{'lion', 2, 'rabit', 'rat', 7, 'cat'}\n",
            "{'lion', 2, 7, 16, 17, 'rabit', 'rat', 'cat'}\n"
          ]
        }
      ]
    },
    {
      "cell_type": "code",
      "source": [
        "##intersection update\n",
        "a={\"ant\",\"cat\",\"rabit\",\"lion\"}\n",
        "b={\"ant\",\"dog\",\"tiger\"}\n",
        "a.intersection_update(b)\n",
        "print(a)"
      ],
      "metadata": {
        "colab": {
          "base_uri": "https://localhost:8080/"
        },
        "id": "h5-AYWLcQowW",
        "outputId": "e48e27a1-109d-49db-a6cb-1e4215e40320"
      },
      "execution_count": null,
      "outputs": [
        {
          "output_type": "stream",
          "name": "stdout",
          "text": [
            "{'ant'}\n"
          ]
        }
      ]
    },
    {
      "cell_type": "code",
      "source": [
        "a={\"rat\",\"cat\",\"rabit\",\"lion\"}\n",
        "b={\"dog\",\"tiger\",\"rat\"}\n",
        "c=a.intersection(b)\n",
        "print(c)"
      ],
      "metadata": {
        "colab": {
          "base_uri": "https://localhost:8080/"
        },
        "id": "_w6KTNrPRmYV",
        "outputId": "86332f0f-93d5-4079-c15e-29ae6a674b56"
      },
      "execution_count": null,
      "outputs": [
        {
          "output_type": "stream",
          "name": "stdout",
          "text": [
            "{'rat'}\n"
          ]
        }
      ]
    },
    {
      "cell_type": "code",
      "source": [
        "## symmetric_difference_update()\n",
        "a={\"rat\",\"cat\",\"rabit\",\"lion\"}\n",
        "b={\"dog\",\"tiger\",\"rat\"}\n",
        "a.symmetric_difference_update(b)\n",
        "print(a)\n",
        "\n",
        "a={\"rat\",\"cat\",\"rabit\",\"lion\"}\n",
        "b={\"dog\",\"tiger\",\"rat\"}\n",
        "c=a.symmetric_difference(b)\n",
        "print(c)"
      ],
      "metadata": {
        "colab": {
          "base_uri": "https://localhost:8080/"
        },
        "id": "Z9d6gZe8SPpu",
        "outputId": "b6645864-8b47-41a2-aa19-72ae29e544a5"
      },
      "execution_count": null,
      "outputs": [
        {
          "output_type": "stream",
          "name": "stdout",
          "text": [
            "{'cat', 'rabit', 'lion', 'tiger', 'dog'}\n",
            "{'cat', 'rabit', 'lion', 'tiger', 'dog'}\n"
          ]
        }
      ]
    },
    {
      "cell_type": "code",
      "source": [
        "##union()\n",
        "a={\"rat\",\"cat\",\"rabit\",\"lion\"}\n",
        "b={\"dog\",\"tiger\",\"rat\"}\n",
        "c=a.union(b)\n",
        "print(c)"
      ],
      "metadata": {
        "colab": {
          "base_uri": "https://localhost:8080/"
        },
        "id": "BzgDiVqBrrM0",
        "outputId": "91a27f04-76fb-4945-da94-04beefac2ed8"
      },
      "execution_count": null,
      "outputs": [
        {
          "output_type": "stream",
          "name": "stdout",
          "text": [
            "{'lion', 'cat', 'tiger', 'rat', 'dog', 'rabit'}\n"
          ]
        }
      ]
    },
    {
      "cell_type": "code",
      "source": [
        "##\n",
        "A={\"a\",\"b\",\"c\"}\n",
        "B={\"h\",\"j\",\"k\"}\n",
        "C={\"p\",\"t\"}\n",
        "result=A.union(B,C)\n",
        "print(result)"
      ],
      "metadata": {
        "colab": {
          "base_uri": "https://localhost:8080/"
        },
        "id": "9QmUczk3r7FP",
        "outputId": "17bc4fc8-637b-41d0-f0d1-aa4788314b27"
      },
      "execution_count": null,
      "outputs": [
        {
          "output_type": "stream",
          "name": "stdout",
          "text": [
            "{'k', 'p', 'b', 'c', 'j', 't', 'a', 'h'}\n"
          ]
        }
      ]
    },
    {
      "cell_type": "markdown",
      "source": [
        ""
      ],
      "metadata": {
        "id": "aWjYH1UYsgAE"
      }
    },
    {
      "cell_type": "code",
      "source": [
        "##update()\n",
        "a={\"rat\",\"cat\",\"rabit\",\"lion\"}\n",
        "b={\"dog\",\"tiger\",\"rat\"}\n",
        "a.update(b)\n",
        "print(a)"
      ],
      "metadata": {
        "colab": {
          "base_uri": "https://localhost:8080/"
        },
        "id": "No4bLdHDscWu",
        "outputId": "852ec625-b77d-456f-e708-aa7116e89cc3"
      },
      "execution_count": null,
      "outputs": [
        {
          "output_type": "stream",
          "name": "stdout",
          "text": [
            "{'lion', 'cat', 'tiger', 'rat', 'dog', 'rabit'}\n"
          ]
        }
      ]
    }
  ]
}