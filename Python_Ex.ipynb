{
  "cells": [
    {
      "cell_type": "markdown",
      "metadata": {
        "id": "view-in-github",
        "colab_type": "text"
      },
      "source": [
        "<a href=\"https://colab.research.google.com/github/anitha200/python/blob/main/Python_Ex.ipynb\" target=\"_parent\"><img src=\"https://colab.research.google.com/assets/colab-badge.svg\" alt=\"Open In Colab\"/></a>"
      ]
    },
    {
      "cell_type": "code",
      "execution_count": null,
      "id": "dc1fcbe1",
      "metadata": {
        "id": "dc1fcbe1",
        "outputId": "2e53a157-38b5-485b-9610-c60fb3f9825a"
      },
      "outputs": [
        {
          "name": "stdout",
          "output_type": "stream",
          "text": [
            "20.0\n",
            "<class 'float'>\n"
          ]
        }
      ],
      "source": [
        "a=10\n",
        "b=20\n",
        "c=30\n",
        "avg=(a+b+c)/3\n",
        "print(avg)\n",
        "print(type(avg))\n",
        "\n",
        "\n"
      ]
    },
    {
      "cell_type": "code",
      "execution_count": null,
      "id": "e08f5645",
      "metadata": {
        "id": "e08f5645"
      },
      "outputs": [],
      "source": [
        ""
      ]
    },
    {
      "cell_type": "markdown",
      "id": "1233b911",
      "metadata": {
        "id": "1233b911"
      },
      "source": [
        "## multiplication of 3 numbers"
      ]
    },
    {
      "cell_type": "code",
      "execution_count": null,
      "id": "80cbc249",
      "metadata": {
        "id": "80cbc249",
        "outputId": "2380b56f-28f4-4131-a8bf-6d36fe9c2615"
      },
      "outputs": [
        {
          "name": "stdout",
          "output_type": "stream",
          "text": [
            "6\n",
            "<class 'int'>\n"
          ]
        }
      ],
      "source": [
        "a=1\n",
        "b=3\n",
        "c=2\n",
        "multi=(a*b*c)\n",
        "print(multi)\n",
        "print(type(multi))"
      ]
    },
    {
      "cell_type": "markdown",
      "id": "cf8f6426",
      "metadata": {
        "id": "cf8f6426"
      },
      "source": [
        "## dynamic addition of 2 numbers"
      ]
    },
    {
      "cell_type": "code",
      "execution_count": null,
      "id": "f6ac7c83",
      "metadata": {
        "id": "f6ac7c83",
        "outputId": "2ab5aca4-7e14-483e-dfcf-130d8a93c7d1"
      },
      "outputs": [
        {
          "name": "stdout",
          "output_type": "stream",
          "text": [
            "enter the number:10\n",
            "enter the number:20\n",
            "30\n",
            "<class 'type'>\n"
          ]
        }
      ],
      "source": [
        "a=int(input(\"enter the number:\"))\n",
        "b=int(input(\"enter the number:\"))\n",
        "add=(a+b)\n",
        "print(add)\n",
        "print(type)"
      ]
    },
    {
      "cell_type": "markdown",
      "id": "c3ee0b7e",
      "metadata": {
        "id": "c3ee0b7e"
      },
      "source": [
        "## dynamic multiplication of 2 numbers"
      ]
    },
    {
      "cell_type": "code",
      "execution_count": null,
      "id": "ae70604b",
      "metadata": {
        "id": "ae70604b",
        "outputId": "8653a063-b88f-4498-f573-0899f2cbd69b"
      },
      "outputs": [
        {
          "name": "stdout",
          "output_type": "stream",
          "text": [
            "enter the number:2\n",
            "enter the number:5\n",
            "10\n",
            "<class 'type'>\n"
          ]
        }
      ],
      "source": [
        "a=int(input(\"enter the number:\"))\n",
        "b=int(input(\"enter the number:\"))\n",
        "multi=(a*b)\n",
        "print(multi)\n",
        "print(type)"
      ]
    },
    {
      "cell_type": "markdown",
      "id": "95ee65c8",
      "metadata": {
        "id": "95ee65c8"
      },
      "source": [
        "## convert int to float"
      ]
    },
    {
      "cell_type": "code",
      "execution_count": null,
      "id": "ce5e93d3",
      "metadata": {
        "scrolled": true,
        "id": "ce5e93d3",
        "outputId": "07b33627-def8-4650-fafd-f5d4883947ee"
      },
      "outputs": [
        {
          "name": "stdout",
          "output_type": "stream",
          "text": [
            "<class 'int'>\n",
            "<class 'float'>\n"
          ]
        }
      ],
      "source": [
        "a=10\n",
        "print(type(a))\n",
        "b=float(a)\n",
        "print(type(b))"
      ]
    },
    {
      "cell_type": "markdown",
      "id": "25a2b5fb",
      "metadata": {
        "id": "25a2b5fb"
      },
      "source": [
        "### convert float to int"
      ]
    },
    {
      "cell_type": "code",
      "execution_count": null,
      "id": "9f638cdc",
      "metadata": {
        "id": "9f638cdc",
        "outputId": "e49abfc6-5eee-47d0-8c85-81adaf35ea94"
      },
      "outputs": [
        {
          "name": "stdout",
          "output_type": "stream",
          "text": [
            "<class 'float'>\n",
            "<class 'int'>\n",
            "11\n"
          ]
        }
      ],
      "source": [
        "a=11.2\n",
        "b=int(a)\n",
        "print(type(a))\n",
        "print(type(b))\n",
        "print(b)"
      ]
    },
    {
      "cell_type": "markdown",
      "id": "109c1e02",
      "metadata": {
        "id": "109c1e02"
      },
      "source": [
        "### convert string to int (not possible only if values given in alphabets)"
      ]
    },
    {
      "cell_type": "markdown",
      "id": "f6edf7ab",
      "metadata": {
        "id": "f6edf7ab"
      },
      "source": [
        "## Boolean statement\n"
      ]
    },
    {
      "cell_type": "code",
      "execution_count": null,
      "id": "8be9ac6d",
      "metadata": {
        "id": "8be9ac6d",
        "outputId": "74d0d6de-b5a5-4697-a664-19e06d0dfb3b"
      },
      "outputs": [
        {
          "name": "stdout",
          "output_type": "stream",
          "text": [
            "True\n",
            "<class 'int'>\n"
          ]
        }
      ],
      "source": [
        "a=10\n",
        "print(bool(a))\n",
        "print(type(a))"
      ]
    },
    {
      "cell_type": "code",
      "execution_count": null,
      "id": "4d20c575",
      "metadata": {
        "id": "4d20c575",
        "outputId": "859d3ddb-768b-406b-ff02-008473671f67"
      },
      "outputs": [
        {
          "name": "stdout",
          "output_type": "stream",
          "text": [
            "False\n",
            "<class 'bool'>\n"
          ]
        }
      ],
      "source": [
        "a=10\n",
        "b=11\n",
        "c=b<a\n",
        "print(c)\n",
        "print(type(c))"
      ]
    },
    {
      "cell_type": "markdown",
      "id": "de032e13",
      "metadata": {
        "id": "de032e13"
      },
      "source": [
        "## boolean into int"
      ]
    },
    {
      "cell_type": "code",
      "execution_count": null,
      "id": "19f32381",
      "metadata": {
        "id": "19f32381",
        "outputId": "7c5bb87e-89e8-41f3-8ec7-d1a3f73fab9f"
      },
      "outputs": [
        {
          "name": "stdout",
          "output_type": "stream",
          "text": [
            "0\n",
            "<class 'int'>\n"
          ]
        }
      ],
      "source": [
        "a=10\n",
        "b=11\n",
        "c=b<a\n",
        "c=int(bool(c))\n",
        "print(c)\n",
        "print(type(c))"
      ]
    },
    {
      "cell_type": "markdown",
      "id": "69a6b6a5",
      "metadata": {
        "id": "69a6b6a5"
      },
      "source": [
        "## boolean to float"
      ]
    },
    {
      "cell_type": "code",
      "execution_count": null,
      "id": "6af70b39",
      "metadata": {
        "id": "6af70b39",
        "outputId": "c031dc0f-0c2a-47fd-e90d-e75367041a9e"
      },
      "outputs": [
        {
          "name": "stdout",
          "output_type": "stream",
          "text": [
            "0.0\n",
            "<class 'float'>\n"
          ]
        }
      ],
      "source": [
        "a=10\n",
        "b=11\n",
        "c=b<a\n",
        "c=float(bool(c))\n",
        "print(c)\n",
        "print(type(c))"
      ]
    },
    {
      "cell_type": "code",
      "execution_count": null,
      "id": "f91ea8ef",
      "metadata": {
        "id": "f91ea8ef",
        "outputId": "63fc1c53-5e64-47ef-c8bb-f8a3cde2711e"
      },
      "outputs": [
        {
          "name": "stdout",
          "output_type": "stream",
          "text": [
            "True\n",
            "<class 'bool'>\n"
          ]
        }
      ],
      "source": [
        "a=10\n",
        "b=5\n",
        "c=a>b\n",
        "print(c)\n",
        "print(type(c))"
      ]
    },
    {
      "cell_type": "code",
      "execution_count": null,
      "id": "47547eee",
      "metadata": {
        "id": "47547eee",
        "outputId": "315d5c81-8a18-4ab3-aefb-6912ed84b5d3"
      },
      "outputs": [
        {
          "name": "stdout",
          "output_type": "stream",
          "text": [
            "<class 'bool'>\n",
            "<class 'int'>\n"
          ]
        }
      ],
      "source": [
        "a=bool(10)\n",
        "print(type(a))\n",
        "b=int(a)\n",
        "print(type(b))"
      ]
    },
    {
      "cell_type": "code",
      "execution_count": null,
      "id": "5f0743f1",
      "metadata": {
        "id": "5f0743f1",
        "outputId": "bd33c433-c440-4fb6-97df-ab35e3402ce8"
      },
      "outputs": [
        {
          "name": "stdout",
          "output_type": "stream",
          "text": [
            "<class 'bool'>\n",
            "<class 'float'>\n"
          ]
        }
      ],
      "source": [
        "a=bool(10)\n",
        "print(type(a))\n",
        "b=float(a)\n",
        "print(type(b))"
      ]
    },
    {
      "cell_type": "markdown",
      "id": "1b39fe80",
      "metadata": {
        "id": "1b39fe80"
      },
      "source": [
        "## complex to int"
      ]
    },
    {
      "cell_type": "code",
      "execution_count": null,
      "id": "0ca4063a",
      "metadata": {
        "id": "0ca4063a",
        "outputId": "7d43e6ff-b2cc-44cc-dd7f-18e1875de774"
      },
      "outputs": [
        {
          "name": "stdout",
          "output_type": "stream",
          "text": [
            "<class 'complex'>\n",
            "<class 'str'>\n"
          ]
        }
      ],
      "source": [
        "a=5+2j\n",
        "print(type(a))\n",
        "c=str(a)\n",
        "print(type(c))\n",
        "c=\n"
      ]
    },
    {
      "cell_type": "code",
      "execution_count": null,
      "id": "3309a220",
      "metadata": {
        "id": "3309a220"
      },
      "outputs": [],
      "source": [
        ""
      ]
    }
  ],
  "metadata": {
    "kernelspec": {
      "display_name": "Python 3 (ipykernel)",
      "language": "python",
      "name": "python3"
    },
    "language_info": {
      "codemirror_mode": {
        "name": "ipython",
        "version": 3
      },
      "file_extension": ".py",
      "mimetype": "text/x-python",
      "name": "python",
      "nbconvert_exporter": "python",
      "pygments_lexer": "ipython3",
      "version": "3.9.7"
    },
    "colab": {
      "name": "Python Ex.ipynb",
      "provenance": [],
      "include_colab_link": true
    }
  },
  "nbformat": 4,
  "nbformat_minor": 5
}