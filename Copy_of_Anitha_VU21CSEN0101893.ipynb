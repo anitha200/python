{
  "nbformat": 4,
  "nbformat_minor": 0,
  "metadata": {
    "colab": {
      "name": "Copy of Anitha VU21CSEN0101893",
      "provenance": [],
      "collapsed_sections": [],
      "authorship_tag": "ABX9TyNZuZyru1wMDiAEFl+/p3ac",
      "include_colab_link": true
    },
    "kernelspec": {
      "name": "python3",
      "display_name": "Python 3"
    },
    "language_info": {
      "name": "python"
    }
  },
  "cells": [
    {
      "cell_type": "markdown",
      "metadata": {
        "id": "view-in-github",
        "colab_type": "text"
      },
      "source": [
        "<a href=\"https://colab.research.google.com/github/anitha200/python/blob/main/Copy_of_Anitha_VU21CSEN0101893.ipynb\" target=\"_parent\"><img src=\"https://colab.research.google.com/assets/colab-badge.svg\" alt=\"Open In Colab\"/></a>"
      ]
    },
    {
      "cell_type": "code",
      "execution_count": null,
      "metadata": {
        "colab": {
          "base_uri": "https://localhost:8080/"
        },
        "id": "zBErHjeR2bDK",
        "outputId": "ffc928c8-4bf1-440e-8118-6c562fc441e8"
      },
      "outputs": [
        {
          "output_type": "stream",
          "name": "stdout",
          "text": [
            "4\n"
          ]
        }
      ],
      "source": [
        "##list length\n",
        "fruit=[\"mango\",\"apple\",\"grapes\",\"kiwi\"]\n",
        "print(len(fruit))"
      ]
    },
    {
      "cell_type": "code",
      "source": [
        "##access list items\n",
        "fruit=[\"mango\",\"cherry\",\"carrot\",\"orange\"]\n",
        "print(fruit[2])\n",
        "\n",
        "    ## last element\n",
        "print(fruit[-1])\n",
        "    ##range\n",
        "print(fruit[2:3])\n",
        "print(fruit[:2])\n",
        "print(fruit[1:])\n",
        "print(fruit[1:1])\n",
        "   ##print 1st item to the last\n",
        "print(fruit[0])"
      ],
      "metadata": {
        "colab": {
          "base_uri": "https://localhost:8080/"
        },
        "id": "v60N3qdz3DNU",
        "outputId": "f96530e8-5696-4939-f8e0-fe49036641e7"
      },
      "execution_count": null,
      "outputs": [
        {
          "output_type": "stream",
          "name": "stdout",
          "text": [
            "carrot\n",
            "orange\n",
            "['carrot']\n",
            "['mango', 'cherry']\n",
            "['cherry', 'carrot', 'orange']\n",
            "[]\n",
            "mango\n"
          ]
        }
      ]
    },
    {
      "cell_type": "code",
      "source": [
        "##change list items\n",
        "fruit=[\"mango\",\"cherry\",\"carrot\",\"orange\"]\n",
        " #change one item\n",
        "fruit[2]=\"apple\"\n",
        "print(fruit)\n",
        "  #change 2 items\n",
        "fruit[1:3]=[\"apple\",\"grapes\"]\n",
        "print(fruit)\n",
        "   ##insert item\n",
        "fruit.insert(2,\"black\")\n",
        "print(fruit)\n"
      ],
      "metadata": {
        "colab": {
          "base_uri": "https://localhost:8080/"
        },
        "id": "lvNU_cuV4Aal",
        "outputId": "06058150-064f-4b90-c3ff-c21731423d68"
      },
      "execution_count": null,
      "outputs": [
        {
          "output_type": "stream",
          "name": "stdout",
          "text": [
            "['mango', 'cherry', 'apple', 'orange']\n",
            "['mango', 'apple', 'grapes', 'orange']\n",
            "['mango', 'apple', 'black', 'grapes', 'orange']\n"
          ]
        }
      ]
    },
    {
      "cell_type": "code",
      "source": [
        "##add list items\n",
        " #append\n",
        "fruit=[\"mango\",\"orange\",\"apple\"]\n",
        "fruit.append(\"grapes\")\n",
        "print(fruit)\n",
        "  #insert\n",
        "fruit.insert(0,\"kiwi\")\n",
        "print(fruit)\n",
        "fruit.insert(1,\"ani\")\n",
        "print(fruit)\n",
        "   #extend\n",
        "rainbow=[\"black\",\"white\",\"red\"]\n",
        "fruit.extend(rainbow)\n",
        "print(fruit)"
      ],
      "metadata": {
        "colab": {
          "base_uri": "https://localhost:8080/"
        },
        "id": "kq2p2uK18ImZ",
        "outputId": "e45928d7-3ab9-4333-8521-c39093e5b186"
      },
      "execution_count": null,
      "outputs": [
        {
          "output_type": "stream",
          "name": "stdout",
          "text": [
            "['mango', 'orange', 'apple', 'grapes']\n",
            "['kiwi', 'mango', 'orange', 'apple', 'grapes']\n",
            "['kiwi', 'ani', 'mango', 'orange', 'apple', 'grapes']\n",
            "['kiwi', 'ani', 'mango', 'orange', 'apple', 'grapes', 'black', 'white', 'red']\n"
          ]
        }
      ]
    },
    {
      "cell_type": "code",
      "source": [
        "##remove list items\n",
        "fruit=[\"apple\",\"grapes\",\"banana\",\"kiwi\"]\n",
        "fruit.remove(\"banana\")\n",
        "print(fruit)\n",
        "   ##remove specified index\n",
        "fruit.pop(2)\n",
        "print(fruit)\n",
        "   ##remove last item\n",
        "fruit.pop()\n",
        "print(fruit)\n",
        "   ##delete\n",
        "del fruit[0]\n",
        "print(fruit)"
      ],
      "metadata": {
        "colab": {
          "base_uri": "https://localhost:8080/"
        },
        "id": "OW7OtCvQBbBO",
        "outputId": "2e2cd5d4-457f-469f-f8d2-b9fcd946107d"
      },
      "execution_count": null,
      "outputs": [
        {
          "output_type": "stream",
          "name": "stdout",
          "text": [
            "['apple', 'grapes', 'kiwi']\n",
            "['apple', 'grapes']\n",
            "['apple']\n",
            "[]\n"
          ]
        }
      ]
    },
    {
      "cell_type": "code",
      "source": [
        "##loop list\n",
        "rainbow=[\"black\",\"red\",\"white\",\"blue\"]\n",
        "print(rainbow)\n",
        "\n",
        "\n",
        "   ##for loop\n",
        "for x in rainbow:\n",
        "  print(x)\n",
        "\n",
        "\n",
        "  ##range\n",
        "for i in range(len(rainbow)):\n",
        "  print(rainbow[1])\n",
        "\n",
        "  \n",
        "  ##while loop\n",
        "  i=0\n",
        "  while i < len(rainbow):\n",
        "    print(rainbow[i])\n",
        "    i=i+1\n",
        "\n",
        "    ##for loop\n",
        "    [print(x) for x in rainbow]"
      ],
      "metadata": {
        "colab": {
          "base_uri": "https://localhost:8080/"
        },
        "id": "8VdKxdLGD_pS",
        "outputId": "913e2da5-dfb5-4427-ae77-f93fbdf69f02"
      },
      "execution_count": null,
      "outputs": [
        {
          "output_type": "stream",
          "name": "stdout",
          "text": [
            "['black', 'red', 'white', 'blue']\n",
            "black\n",
            "red\n",
            "white\n",
            "blue\n",
            "red\n",
            "black\n",
            "black\n",
            "red\n",
            "white\n",
            "blue\n",
            "red\n",
            "black\n",
            "red\n",
            "white\n",
            "blue\n",
            "white\n",
            "black\n",
            "red\n",
            "white\n",
            "blue\n",
            "blue\n",
            "black\n",
            "red\n",
            "white\n",
            "blue\n",
            "red\n",
            "black\n",
            "black\n",
            "red\n",
            "white\n",
            "blue\n",
            "red\n",
            "black\n",
            "red\n",
            "white\n",
            "blue\n",
            "white\n",
            "black\n",
            "red\n",
            "white\n",
            "blue\n",
            "blue\n",
            "black\n",
            "red\n",
            "white\n",
            "blue\n",
            "red\n",
            "black\n",
            "black\n",
            "red\n",
            "white\n",
            "blue\n",
            "red\n",
            "black\n",
            "red\n",
            "white\n",
            "blue\n",
            "white\n",
            "black\n",
            "red\n",
            "white\n",
            "blue\n",
            "blue\n",
            "black\n",
            "red\n",
            "white\n",
            "blue\n",
            "red\n",
            "black\n",
            "black\n",
            "red\n",
            "white\n",
            "blue\n",
            "red\n",
            "black\n",
            "red\n",
            "white\n",
            "blue\n",
            "white\n",
            "black\n",
            "red\n",
            "white\n",
            "blue\n",
            "blue\n",
            "black\n",
            "red\n",
            "white\n",
            "blue\n"
          ]
        }
      ]
    },
    {
      "cell_type": "code",
      "source": [
        "## list comprehension\n",
        "Rainbow=[\"white\",\"red\",\"blue\",\"pink\"]\n",
        "newlist=[x for x in Rainbow if \"e\" in x]\n",
        "print(newlist)\n",
        "\n",
        "newlist=[x for x in Rainbow if x!=\"white\"]\n",
        "print(newlist)\n",
        "\n",
        "newlist=[x for x in Rainbow ]\n",
        "print(newlist)\n",
        "\n",
        "newlist=[x for x in range(9)]\n",
        "print(newlist)\n",
        "\n",
        "newlist=[x for x in range(10) if x<6]\n",
        "print(newlist)\n",
        "\n",
        "newlist=[x.upper()for x in Rainbow]\n",
        "print(newlist)\n",
        "\n",
        "newlist=['hello' for x in Rainbow]\n",
        "print(newlist)\n",
        "\n",
        "newlist=[x if x !=\"white\" else \"blue\" for x in Rainbow]\n",
        "print(newlist)\n",
        "\n"
      ],
      "metadata": {
        "colab": {
          "base_uri": "https://localhost:8080/"
        },
        "id": "hWXX8iGyyNjl",
        "outputId": "ca325a0f-4bf1-45f9-8a2b-adb2b76e4027"
      },
      "execution_count": null,
      "outputs": [
        {
          "output_type": "stream",
          "name": "stdout",
          "text": [
            "['white', 'red', 'blue']\n",
            "['red', 'blue', 'pink']\n",
            "['white', 'red', 'blue', 'pink']\n",
            "[0, 1, 2, 3, 4, 5, 6, 7, 8]\n",
            "[0, 1, 2, 3, 4, 5]\n",
            "['WHITE', 'RED', 'BLUE', 'PINK']\n",
            "['hello', 'hello', 'hello', 'hello']\n",
            "['blue', 'red', 'blue', 'pink']\n"
          ]
        }
      ]
    },
    {
      "cell_type": "code",
      "source": [
        "##sort list\n",
        "##alph\n",
        "Rainbow=[\"white\",\"red\",\"blue\",\"pink\"]\n",
        "Rainbow.sort()\n",
        "print(Rainbow)\n",
        "\n",
        "##numerically\n",
        "num=[\"19\",\"30\",\"4\",\"28\",\"48\"]\n",
        "num.sort()\n",
        "print(num)\n",
        "\n",
        "##descending order\n",
        "Rainbow=[\"white\",\"red\",\"blue\",\"pink\"]\n",
        "Rainbow.sort(reverse=True)\n",
        "print(Rainbow)\n",
        "\n",
        "num=[\"19\",\"30\",\"4\",\"28\",\"48\"]\n",
        "num.sort(reverse= True)\n",
        "print(num)\n",
        "\n",
        "##customise sort function\n",
        "def myfunc(n):\n",
        "  return abs(n - 50)\n",
        "num=[19,30,4,28,48]\n",
        "num.sort(key=myfunc)\n",
        "print(num)\n",
        "\n",
        "##case insensitive sort\n",
        "Rainbow=[\"white\",\"red\",\"blue\",\"pink\"]\n",
        "Rainbow.sort()\n",
        "print(Rainbow)\n",
        "\n",
        "##revese order\n",
        "Rainbow=[\"white\",\"red\",\"blue\",\"pink\"]\n",
        "Rainbow.reverse()\n",
        "print(Rainbow)\n",
        "\n"
      ],
      "metadata": {
        "colab": {
          "base_uri": "https://localhost:8080/"
        },
        "id": "Kz5Wjlf-5vYG",
        "outputId": "4f4123c3-d1b6-44f8-eed6-3bc2aeb8ca37"
      },
      "execution_count": null,
      "outputs": [
        {
          "output_type": "stream",
          "name": "stdout",
          "text": [
            "['blue', 'pink', 'red', 'white']\n",
            "['19', '28', '30', '4', '48']\n",
            "['white', 'red', 'pink', 'blue']\n",
            "['48', '4', '30', '28', '19']\n",
            "[48, 30, 28, 19, 4]\n",
            "['blue', 'pink', 'red', 'white']\n",
            "['pink', 'blue', 'red', 'white']\n"
          ]
        }
      ]
    },
    {
      "cell_type": "code",
      "source": [
        "##copy list\n",
        "Rainbow=[\"white\",\"red\",\"blue\",\"pink\"]\n",
        "mylist=Rainbow.copy()\n",
        "print(mylist)\n",
        "\n",
        "mylist=list(Rainbow)\n",
        "print(mylist)\n"
      ],
      "metadata": {
        "colab": {
          "base_uri": "https://localhost:8080/"
        },
        "id": "aPiIAJjb98Q6",
        "outputId": "d70f0ef4-80c3-4e56-f477-33c9a3ee1b36"
      },
      "execution_count": null,
      "outputs": [
        {
          "output_type": "stream",
          "name": "stdout",
          "text": [
            "['white', 'red', 'blue', 'pink']\n",
            "['white', 'red', 'blue', 'pink']\n"
          ]
        }
      ]
    },
    {
      "cell_type": "code",
      "source": [
        "##join 2 list\n",
        "s=[\"a\",\"r\",\"j\"]\n",
        "a=[5,6,2]\n",
        "m=s+a\n",
        "print(m)\n",
        "\n",
        "#another way\n",
        "s=[\"a\",\"r\",\"j\"]\n",
        "a=[5,6,2]\n",
        "for x in a:\n",
        "  s.append(x)\n",
        "print(s)\n",
        "\n",
        "##extend method\n",
        "s=[\"a\",\"r\",\"j\"]\n",
        "a=[5,6,2]\n",
        "s.extend(a)\n",
        "print(s)\n",
        "\n"
      ],
      "metadata": {
        "colab": {
          "base_uri": "https://localhost:8080/"
        },
        "id": "DG0-hzUz-fOC",
        "outputId": "c3dea735-487d-47b6-f272-08f81285dd43"
      },
      "execution_count": null,
      "outputs": [
        {
          "output_type": "stream",
          "name": "stdout",
          "text": [
            "['a', 'r', 'j', 5, 6, 2]\n",
            "['a', 'r', 'j', 5, 6, 2]\n",
            "['a', 'r', 'j', 5, 6, 2]\n"
          ]
        }
      ]
    }
  ]
}