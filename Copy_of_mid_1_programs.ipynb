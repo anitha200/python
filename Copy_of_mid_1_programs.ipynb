{
  "nbformat": 4,
  "nbformat_minor": 0,
  "metadata": {
    "colab": {
      "name": "Copy of mid 1 programs",
      "provenance": [],
      "collapsed_sections": [],
      "authorship_tag": "ABX9TyP3WTZ/9eFIzsir29PhRhWG",
      "include_colab_link": true
    },
    "kernelspec": {
      "name": "python3",
      "display_name": "Python 3"
    },
    "language_info": {
      "name": "python"
    }
  },
  "cells": [
    {
      "cell_type": "markdown",
      "metadata": {
        "id": "view-in-github",
        "colab_type": "text"
      },
      "source": [
        "<a href=\"https://colab.research.google.com/github/anitha200/python/blob/main/Copy_of_mid_1_programs.ipynb\" target=\"_parent\"><img src=\"https://colab.research.google.com/assets/colab-badge.svg\" alt=\"Open In Colab\"/></a>"
      ]
    },
    {
      "cell_type": "code",
      "execution_count": null,
      "metadata": {
        "colab": {
          "base_uri": "https://localhost:8080/"
        },
        "id": "ISAliHWwkX_z",
        "outputId": "6509c686-2623-4a86-ad4c-fe2c932b872e"
      },
      "outputs": [
        {
          "output_type": "stream",
          "name": "stdout",
          "text": [
            "enter the number3\n",
            "enter the number2\n",
            "9\n"
          ]
        }
      ],
      "source": [
        "##1)write a python program to find power of number with recursion and without recursion(input n=2 , p=3)\n",
        "##without recursion\n",
        "def power(x,y):\n",
        "  if(y==0):\n",
        "    return 1\n",
        "  return(x*power(x,y-1))\n",
        "x=int(input(\"enter the number\"))\n",
        "y=int(input(\"enter the number\"))\n",
        "print(power(x,y))\n",
        "\n"
      ]
    },
    {
      "cell_type": "code",
      "source": [
        "##\n",
        "def pow(x,y):\n",
        "  z=1\n",
        "  if y>1:\n",
        "    z=x*pow(x,y-1)\n",
        "    return z\n",
        "  else:\n",
        "      return x\n",
        "      \n"
      ],
      "metadata": {
        "id": "0Yca_PxGnfJ2"
      },
      "execution_count": null,
      "outputs": []
    },
    {
      "cell_type": "code",
      "source": [
        "##write a program to sort tuple by total digits (input: list=[(3,4,6,723),(1,2),(134,234,34)])\n",
        "     # output:[(1,2)(3,4,6,723)(34,134,234)]\n",
        "a=[(3,4,6,723),(1,2),(134,234,34)]\n",
        "for i in range(0,len(a)):\n",
        "   a[i]=sorted(a[i])\n",
        "print(sorted(a))\n"
      ],
      "metadata": {
        "colab": {
          "base_uri": "https://localhost:8080/"
        },
        "id": "KSy7eOKYphH4",
        "outputId": "11c38cd9-f43b-4b1b-f4bf-9035a9670b60"
      },
      "execution_count": null,
      "outputs": [
        {
          "output_type": "stream",
          "name": "stdout",
          "text": [
            "[[1, 2], [3, 4, 6, 723], [34, 134, 234]]\n"
          ]
        }
      ]
    },
    {
      "cell_type": "code",
      "source": [
        "###take five subjects from the user and display the grade of the student,if average is 90-100(o),80-89(a+),70-79(a)...\n",
        "a=int(input(\"enter 1st subject marks\"))\n",
        "b=int(input(\"enter 2nd subject marks\"))\n",
        "c=int(input(\"enter 3rd subject marks\"))\n",
        "d=int(input(\"enter 4th subject marks\"))\n",
        "e=int(input(\"enter 5th subject marks\"))\n",
        "avg=(a+b+c+d+e)/5\n",
        "if (avg>=90) :\n",
        " print(\"Grade:o\")\n",
        "elif(avg>=80&avg<90):\n",
        "  print(\"Grade: a+\")\n",
        "elif(avg>=70&avg<80):\n",
        "  print(\"Grade: a\")\n",
        "elif(avg>=60&avg<70):\n",
        "  print(\"Grade: b\")\n",
        "else:\n",
        "  print(\"Grade: fail\")"
      ],
      "metadata": {
        "colab": {
          "base_uri": "https://localhost:8080/"
        },
        "id": "G1kgdM5OsACB",
        "outputId": "28490c3a-ce22-4a3a-b2d1-240b8b40983d"
      },
      "execution_count": null,
      "outputs": [
        {
          "output_type": "stream",
          "name": "stdout",
          "text": [
            "enter 1st subject marks99\n",
            "enter 2nd subject marks98\n",
            "enter 3rd subject marks97\n",
            "enter 4th subject marks90\n",
            "enter 5th subject marks95\n",
            "Grade:o\n"
          ]
        }
      ]
    },
    {
      "cell_type": "code",
      "source": [
        "##write a python program that prints 1 if all three given numbers are ascending order.\n",
        "a=int(input(\"enter the number\"))\n",
        "b=int(input(\"enter the number\"))\n",
        "c=int(input(\"enter the number\"))\n",
        "if a>b>c:\n",
        "  print(1)\n",
        "else:\n",
        "    print(0)\n",
        "\n",
        "\n"
      ],
      "metadata": {
        "colab": {
          "base_uri": "https://localhost:8080/"
        },
        "id": "3yxI-V6Ss1VI",
        "outputId": "a28eef5d-dec7-40df-a1fa-766a165c6ade"
      },
      "execution_count": null,
      "outputs": [
        {
          "output_type": "stream",
          "name": "stdout",
          "text": [
            "enter the number9\n",
            "enter the number6\n",
            "enter the number1\n",
            "1\n"
          ]
        }
      ]
    },
    {
      "cell_type": "code",
      "source": [
        "##check a given number is perfect number are not\n",
        "a=int(input(\"enter the number\"))\n",
        "sum1=0\n",
        "for i in range(1,a):\n",
        "  if(a%i==0):\n",
        "    sum=sum1+i\n",
        "if(sum1==a):\n",
        "  print(\"it is perfect number\")\n",
        "else:\n",
        "  print(\"it is not perfect number\")"
      ],
      "metadata": {
        "colab": {
          "base_uri": "https://localhost:8080/"
        },
        "id": "sqMbNYkZw90D",
        "outputId": "d41f618e-325e-4c92-e3cc-73089ea4d4d0"
      },
      "execution_count": null,
      "outputs": [
        {
          "output_type": "stream",
          "name": "stdout",
          "text": [
            "enter the number9\n",
            "it is not perfect number\n"
          ]
        }
      ]
    },
    {
      "cell_type": "code",
      "source": [
        "##check a given string is a pallindrome or not\n",
        "def pallindrome(s):\n",
        "   return s==s[::-1]\n",
        "s=\"mom\"\n",
        "ans= pallindrome(s)\n",
        "if ans:\n",
        "    print(\"yes\")\n",
        "else:\n",
        "    print(\"no\")\n",
        "    \n",
        "\n",
        "\n"
      ],
      "metadata": {
        "colab": {
          "base_uri": "https://localhost:8080/"
        },
        "id": "ZtZ1zY69yJ1L",
        "outputId": "2efb005a-53c5-49af-f903-e1d0f5c6ead7"
      },
      "execution_count": null,
      "outputs": [
        {
          "output_type": "stream",
          "name": "stdout",
          "text": [
            "yes\n"
          ]
        }
      ]
    },
    {
      "cell_type": "code",
      "source": [
        "##find the gcd of two numbers with and without recursion(5,3=1)\n",
        "import math\n",
        "a=int(input(\"enter a number\"))\n",
        "b=int(input(\"enter the number\"))\n",
        "print(\"GCD of a and b :\",end=\"\")\n",
        "print(math.gcd(a,b))"
      ],
      "metadata": {
        "colab": {
          "base_uri": "https://localhost:8080/"
        },
        "id": "FlHccuv01x6W",
        "outputId": "608b8828-bfbf-4d89-b997-8c8499bab30c"
      },
      "execution_count": null,
      "outputs": [
        {
          "output_type": "stream",
          "name": "stdout",
          "text": [
            "enter a number5\n",
            "enter the number6\n",
            "GCD of a and b :1\n"
          ]
        }
      ]
    },
    {
      "cell_type": "code",
      "source": [
        "## another way\n",
        "a,b,c=map(int,input().split())\n",
        "if b!=a+1 or c!=b+1:\n",
        "  print(0)\n",
        "elif b==a+1 and c==b+1:\n",
        "  print(1)"
      ],
      "metadata": {
        "id": "x878zvw83ue2"
      },
      "execution_count": null,
      "outputs": []
    },
    {
      "cell_type": "code",
      "source": [
        "##print sum of even digits in a given number"
      ],
      "metadata": {
        "id": "B7zspLUT6Lud"
      },
      "execution_count": null,
      "outputs": []
    }
  ]
}