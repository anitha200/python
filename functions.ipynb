{
  "nbformat": 4,
  "nbformat_minor": 0,
  "metadata": {
    "colab": {
      "name": "functions",
      "provenance": [],
      "collapsed_sections": [],
      "authorship_tag": "ABX9TyMavdubv081qoVdeO2KT1AS",
      "include_colab_link": true
    },
    "kernelspec": {
      "name": "python3",
      "display_name": "Python 3"
    },
    "language_info": {
      "name": "python"
    }
  },
  "cells": [
    {
      "cell_type": "markdown",
      "metadata": {
        "id": "view-in-github",
        "colab_type": "text"
      },
      "source": [
        "<a href=\"https://colab.research.google.com/github/anitha200/python/blob/main/functions.ipynb\" target=\"_parent\"><img src=\"https://colab.research.google.com/assets/colab-badge.svg\" alt=\"Open In Colab\"/></a>"
      ]
    },
    {
      "cell_type": "code",
      "execution_count": 1,
      "metadata": {
        "colab": {
          "base_uri": "https://localhost:8080/"
        },
        "id": "yDRu8U9g9KW0",
        "outputId": "e9f652cc-0d0c-4b9b-9acd-75c5aff7d785"
      },
      "outputs": [
        {
          "output_type": "stream",
          "name": "stdout",
          "text": [
            "hello anitha\n"
          ]
        }
      ],
      "source": [
        "##calling a Function\n",
        "def my_function():\n",
        "  print(\"hello anitha\")\n",
        "my_function()\n"
      ]
    },
    {
      "cell_type": "code",
      "source": [
        "##arguments\n",
        "def Anitha(Ankitha):\n",
        "  print(\"Anitha\" + Ankitha)\n",
        "Anitha(\"dynamic\")\n",
        "Anitha(\"cool\")\n",
        "Anitha(\"good\")\n"
      ],
      "metadata": {
        "colab": {
          "base_uri": "https://localhost:8080/"
        },
        "id": "0GiEaXrC-oSa",
        "outputId": "3c793551-4cd2-4161-cdd7-06482826dfe0"
      },
      "execution_count": null,
      "outputs": [
        {
          "output_type": "stream",
          "name": "stdout",
          "text": [
            "Anithadynamic\n",
            "Anithacool\n",
            "Anithagood\n"
          ]
        }
      ]
    },
    {
      "cell_type": "code",
      "source": [
        "##voting    (with arguments and with return value)\n",
        "def voting(n,a,g):\n",
        "  print(n + \"anitha\")\n",
        "  print(a + \"18\")\n",
        "  print(g + \"female\")\n",
        "voting(\"name:\",\"age:\",\"female:\")\n",
        "\n",
        "\n"
      ],
      "metadata": {
        "colab": {
          "base_uri": "https://localhost:8080/"
        },
        "id": "wEqQp7E7C1sE",
        "outputId": "007daa73-29ab-4055-b2db-c5d594eb0e9d"
      },
      "execution_count": 5,
      "outputs": [
        {
          "output_type": "stream",
          "name": "stdout",
          "text": [
            "name:anitha\n",
            "age:18\n",
            "female:female\n"
          ]
        }
      ]
    },
    {
      "cell_type": "code",
      "source": [
        "##number of arguments\n",
        "def mouni(dhanush,bhanu):\n",
        "  print(dhanush+  \"\"+\"and bhavana\"+bhanu)\n",
        "  mouni(\"Ankitha\",\"Rivals\")"
      ],
      "metadata": {
        "id": "4CebjjLIEFx7"
      },
      "execution_count": 2,
      "outputs": []
    },
    {
      "cell_type": "code",
      "source": [
        "##Arbitrary Arguments, *args\n",
        "def my_function(*friends):\n",
        "   print(\"my best friend\"+friends[0])\n",
        "   my_function(\"sravanthi\",\"bhanu\",\"dhanush\")\n"
      ],
      "metadata": {
        "id": "tv5d04T8ec1a"
      },
      "execution_count": 20,
      "outputs": []
    },
    {
      "cell_type": "code",
      "source": [
        "\n",
        "##voting    (with argu and without return value)\n",
        "def vote(n,a,g):\n",
        "  print(\"n:\" + n )\n",
        "  print(\"a:\" + a)\n",
        "  print(\"g:\" + g)\n",
        "vote(\"anitha\",\"18\",\"female\")"
      ],
      "metadata": {
        "colab": {
          "base_uri": "https://localhost:8080/"
        },
        "id": "5UaXD_SmmXx2",
        "outputId": "dacc3531-6084-45e6-a11e-df40859082a7"
      },
      "execution_count": 14,
      "outputs": [
        {
          "output_type": "stream",
          "name": "stdout",
          "text": [
            "n:anitha\n",
            "a:18\n",
            "g:female\n"
          ]
        }
      ]
    },
    {
      "cell_type": "code",
      "source": [
        ""
      ],
      "metadata": {
        "id": "1ETva-Jtmt91"
      },
      "execution_count": null,
      "outputs": []
    }
  ]
}