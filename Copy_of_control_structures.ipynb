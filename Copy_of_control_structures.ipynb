{
  "nbformat": 4,
  "nbformat_minor": 0,
  "metadata": {
    "colab": {
      "name": "Copy of control_structures.ipynb",
      "provenance": [],
      "collapsed_sections": [],
      "include_colab_link": true
    },
    "kernelspec": {
      "name": "python3",
      "display_name": "Python 3"
    },
    "language_info": {
      "name": "python"
    }
  },
  "cells": [
    {
      "cell_type": "markdown",
      "metadata": {
        "id": "view-in-github",
        "colab_type": "text"
      },
      "source": [
        "<a href=\"https://colab.research.google.com/github/anitha200/python/blob/main/Copy_of_control_structures.ipynb\" target=\"_parent\"><img src=\"https://colab.research.google.com/assets/colab-badge.svg\" alt=\"Open In Colab\"/></a>"
      ]
    },
    {
      "cell_type": "code",
      "execution_count": null,
      "metadata": {
        "colab": {
          "base_uri": "https://localhost:8080/"
        },
        "id": "ZEUczjzjpvAI",
        "outputId": "570132f2-2b83-4179-821b-603dd27f5d68"
      },
      "outputs": [
        {
          "output_type": "stream",
          "name": "stdout",
          "text": [
            "your  eligible for voting\n",
            "your  not eligible for voting\n"
          ]
        }
      ],
      "source": [
        "a=20\n",
        "if a>=18:\n",
        "      print(\"your  eligible for voting\")\n",
        "   # else:\n",
        "      print(\"your  not eligible for voting\")\n"
      ]
    },
    {
      "cell_type": "code",
      "source": [
        "a=int(input(\"enter your age\"))\n",
        "if a>=18:\n",
        "     print(\"your eligible for voting\")\n",
        "else:\n",
        "     print(\"your not eligible for voting\")"
      ],
      "metadata": {
        "colab": {
          "base_uri": "https://localhost:8080/"
        },
        "id": "-8UkgfnHr0sF",
        "outputId": "828483c1-12d5-49d8-8607-1494f734d1ca"
      },
      "execution_count": null,
      "outputs": [
        {
          "output_type": "stream",
          "name": "stdout",
          "text": [
            "enter your age20\n",
            "your eligible for voting\n"
          ]
        }
      ]
    },
    {
      "cell_type": "code",
      "source": [
        "a=int(input(\"enter your number\"))\n",
        "b=int(input(\"enter your number\"))\n",
        "c=int(input(\"enter your number\"))\n",
        "if a>b and a>c:\n",
        "   print(\"a is greater:\")\n",
        "elif b>a and b>c:\n",
        "   print(\"b is greater:\")\n",
        "else:\n",
        "    print(\"c is greater:\")"
      ],
      "metadata": {
        "colab": {
          "base_uri": "https://localhost:8080/"
        },
        "id": "tcnlRtHwtT3s",
        "outputId": "5eccd2bc-a35d-4db5-9a14-67acc500fba1"
      },
      "execution_count": null,
      "outputs": [
        {
          "output_type": "stream",
          "name": "stdout",
          "text": [
            "enter your number1\n",
            "enter your number5\n",
            "enter your number9\n",
            "c is greater:\n"
          ]
        }
      ]
    },
    {
      "cell_type": "code",
      "source": [
        "a=int(input(\"enter your number\"))\n",
        "b=int(input(\"enter your number\"))\n",
        "c=int(input(\"enter your number\"))\n",
        "d=int(input(\"enter your number\"))\n",
        "e=int(input(\"enter your number\"))\n",
        "if a>b and a>c and a>d and a>e:\n",
        "    print(\"a is greater:\")\n",
        "elif b>a and b>c and b>d and b>e:\n",
        "    print(\"b is greater:\")\n",
        "elif c>a and c>b and c>d and c>e:\n",
        "    print(\"c is greater:\")\n",
        "elif d>a and d>b and d>c and d>e:\n",
        "    print(\"d is greater:\")\n",
        "else:\n",
        "    print(\"e is greater:\")\n"
      ],
      "metadata": {
        "colab": {
          "base_uri": "https://localhost:8080/"
        },
        "id": "622q3n8qvogs",
        "outputId": "a059b798-2891-4a6b-c485-4c1b9ba5c9c9"
      },
      "execution_count": null,
      "outputs": [
        {
          "output_type": "stream",
          "name": "stdout",
          "text": [
            "enter your number2\n",
            "enter your number6\n",
            "enter your number4\n",
            "enter your number8\n",
            "enter your number1\n",
            "d is greater:\n"
          ]
        }
      ]
    },
    {
      "cell_type": "code",
      "source": [
        ""
      ],
      "metadata": {
        "id": "XI_wjq5Yx_iM"
      },
      "execution_count": null,
      "outputs": []
    }
  ]
}