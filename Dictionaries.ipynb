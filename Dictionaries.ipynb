{
  "nbformat": 4,
  "nbformat_minor": 0,
  "metadata": {
    "colab": {
      "name": "Dictionaries",
      "provenance": [],
      "collapsed_sections": [],
      "authorship_tag": "ABX9TyNIwkpGbQ/iFp5vZUap/qmS",
      "include_colab_link": true
    },
    "kernelspec": {
      "name": "python3",
      "display_name": "Python 3"
    },
    "language_info": {
      "name": "python"
    }
  },
  "cells": [
    {
      "cell_type": "markdown",
      "metadata": {
        "id": "view-in-github",
        "colab_type": "text"
      },
      "source": [
        "<a href=\"https://colab.research.google.com/github/anitha200/python/blob/main/Dictionaries.ipynb\" target=\"_parent\"><img src=\"https://colab.research.google.com/assets/colab-badge.svg\" alt=\"Open In Colab\"/></a>"
      ]
    },
    {
      "cell_type": "code",
      "execution_count": null,
      "metadata": {
        "colab": {
          "base_uri": "https://localhost:8080/"
        },
        "id": "2RlFeT98TZWA",
        "outputId": "297fe9e8-c20a-4806-9fb6-43dde407b8c7"
      },
      "outputs": [
        {
          "output_type": "stream",
          "name": "stdout",
          "text": [
            "{'brand': 'fossil', 'model': 'hybrid smart', 'year': 1890}\n"
          ]
        }
      ],
      "source": [
        "\n",
        "##Create and print a dictionary:\n",
        "dict =  {\n",
        " \"brand\":\"fossil\",\n",
        " \"model\":\"hybrid smart\",\n",
        " \"year\":1890\n",
        "}  \n",
        "print(dict)"
      ]
    },
    {
      "cell_type": "code",
      "source": [
        "##print brand\n",
        "dict =  {\n",
        " \"brand\":\"fossil\",\n",
        " \"model\":\"hybrid smart\",\n",
        " \"year\":1890\n",
        "}  \n",
        "print(dict[\"brand\"])\n",
        "\n",
        "#duplicates not allowed\n",
        "dict =  {\n",
        " \"brand\":\"fossil\",\n",
        " \"model\":\"hybrid smart\",\n",
        " \"year\":1890,\n",
        " \"year\":2030\n",
        "}  \n",
        "print(dict)\n",
        "\n",
        "##length\n",
        "dict =  {\n",
        " \"brand\":\"fossil\",\n",
        " \"model\":\"hybrid smart\",\n",
        " \"year\":1890\n",
        "}  \n",
        "print(len(dict))\n",
        "\n",
        "##String, int, boolean, and list data types:\n",
        "dict =  {\n",
        " \"brand\":\"fossil\",\n",
        " \"model\":\"hybrid smart\",\n",
        " \"year\":1890,\n",
        " \"colors\":[\"blue\",\"red\"]\n",
        "}  \n",
        "print(dict)\n",
        "\n",
        "##print data type\n",
        "dict =  {\n",
        " \"brand\":\"fossil\",\n",
        " \"model\":\"hybrid smart\",\n",
        " \"year\":1890,\n",
        "}  \n",
        "print(type(dict))"
      ],
      "metadata": {
        "colab": {
          "base_uri": "https://localhost:8080/"
        },
        "id": "8zXWX8axXBLS",
        "outputId": "81395db0-709a-4fef-8309-5479107c4452"
      },
      "execution_count": null,
      "outputs": [
        {
          "output_type": "stream",
          "name": "stdout",
          "text": [
            "fossil\n",
            "{'brand': 'fossil', 'model': 'hybrid smart', 'year': 2030}\n",
            "3\n",
            "{'brand': 'fossil', 'model': 'hybrid smart', 'year': 1890, 'colors': ['blue', 'red']}\n",
            "<class 'dict'>\n"
          ]
        }
      ]
    },
    {
      "cell_type": "code",
      "source": [
        "##access elements\n",
        "#model key\n",
        "dict =  {\n",
        " \"brand\":\"fossil\",\n",
        " \"model\":\"hybrid smart\",\n",
        " \"year\":1890,\n",
        "}  \n",
        "x=dict[\"model\"]\n",
        "print(x)"
      ],
      "metadata": {
        "colab": {
          "base_uri": "https://localhost:8080/"
        },
        "id": "fO4duTJJZ7VT",
        "outputId": "c03033f2-7bee-4914-f4c7-2dfd721d31c1"
      },
      "execution_count": null,
      "outputs": [
        {
          "output_type": "stream",
          "name": "stdout",
          "text": [
            "hybrid smart\n"
          ]
        }
      ]
    },
    {
      "cell_type": "code",
      "source": [
        "##Make a change in the original dictionary, and see that the values list gets updated as well:\n",
        "\n",
        "##change year\n",
        "watch =  {\n",
        " \"brand\":\"fossil\",\n",
        " \"model\":\"hybrid smart\",\n",
        " \"year\":1890,\n",
        "}  \n",
        "x = watch.values()\n",
        "print(x)\n",
        "watch[\"year\"]=2022\n",
        "print(x)\n",
        "\n",
        "##change colour\n",
        "watch =  {\n",
        " \"brand\":\"fossil\",\n",
        " \"model\":\"hybrid smart\",\n",
        " \"year\":1890,\n",
        "}  \n",
        "x = watch.values()\n",
        "print(x)\n",
        "watch[\"colour\"]=\"black\"\n",
        "print(x)"
      ],
      "metadata": {
        "colab": {
          "base_uri": "https://localhost:8080/"
        },
        "id": "C9CG0zZ0bPEg",
        "outputId": "43483d60-2654-499f-fcd4-2b62abd163b0"
      },
      "execution_count": null,
      "outputs": [
        {
          "output_type": "stream",
          "name": "stdout",
          "text": [
            "dict_values(['fossil', 'hybrid smart', 1890])\n",
            "dict_values(['fossil', 'hybrid smart', 2022])\n",
            "dict_values(['fossil', 'hybrid smart', 1890])\n",
            "dict_values(['fossil', 'hybrid smart', 1890, 'black'])\n"
          ]
        }
      ]
    },
    {
      "cell_type": "code",
      "source": [
        "##get items\n",
        "watch =  {\n",
        " \"brand\":\"fossil\",\n",
        " \"model\":\"hybrid smart\",\n",
        " \"year\":1890,\n",
        "}  \n",
        "x = watch.items()\n",
        "print(x)\n",
        "\n",
        "##change year\n",
        "watch =  {\n",
        " \"brand\":\"fossil\",\n",
        " \"model\":\"hybrid smart\",\n",
        " \"year\":1890,\n",
        "}  \n",
        "x = watch.items()\n",
        "print(x)\n",
        "watch[\"year\"]=2022\n",
        "print(x)\n",
        "\n",
        "##change colour\n",
        "watch =  {\n",
        " \"brand\":\"fossil\",\n",
        " \"model\":\"hybrid smart\",\n",
        " \"year\":1890,\n",
        "}  \n",
        "x = watch.items()\n",
        "print(x)\n",
        "watch[\"colour\"]=\"black\"\n",
        "print(x)\n"
      ],
      "metadata": {
        "colab": {
          "base_uri": "https://localhost:8080/"
        },
        "id": "2RJvR6qRcl5B",
        "outputId": "6a988ee2-68bf-4033-d517-2830f746bfd6"
      },
      "execution_count": null,
      "outputs": [
        {
          "output_type": "stream",
          "name": "stdout",
          "text": [
            "dict_items([('brand', 'fossil'), ('model', 'hybrid smart'), ('year', 1890)])\n",
            "dict_items([('brand', 'fossil'), ('model', 'hybrid smart'), ('year', 1890)])\n",
            "dict_items([('brand', 'fossil'), ('model', 'hybrid smart'), ('year', 2022)])\n",
            "dict_items([('brand', 'fossil'), ('model', 'hybrid smart'), ('year', 1890)])\n",
            "dict_items([('brand', 'fossil'), ('model', 'hybrid smart'), ('year', 1890), ('colour', 'black')])\n"
          ]
        }
      ]
    },
    {
      "cell_type": "code",
      "source": [
        "##Check if \"model\" is present in the dictionary:\n",
        "watch =  {\n",
        " \"brand\":\"fossil\",\n",
        " \"model\":\"hybrid smart\",\n",
        " \"year\":1890,\n",
        "}\n",
        "if \"year\" in watch:\n",
        "    print(\"Yes, 'year' is one of the keys in the watch dictionary\")"
      ],
      "metadata": {
        "colab": {
          "base_uri": "https://localhost:8080/"
        },
        "id": "Qe4obvo-fNk_",
        "outputId": "5cb19ad8-c148-4904-ae8b-414ce21607bc"
      },
      "execution_count": null,
      "outputs": [
        {
          "output_type": "stream",
          "name": "stdout",
          "text": [
            "Yes, 'year' is one of the keys in the watch dictionary\n"
          ]
        }
      ]
    },
    {
      "cell_type": "code",
      "source": [
        "##change items\n",
        "watch =  {\n",
        " \"brand\":\"fossil\",\n",
        " \"model\":\"hybrid smart\",\n",
        " \"year\":1890\n",
        "}\n",
        "watch[\"year\"]=2022\n",
        "print(watch)\n",
        "\n",
        "##\n",
        "watch =  {\n",
        " \"brand\":\"fossil\",\n",
        " \"model\":\"hybrid smart\",\n",
        " \"year\":1890\n",
        "}\n",
        "watch.update({\"year\":2022})\n",
        "print(watch)"
      ],
      "metadata": {
        "colab": {
          "base_uri": "https://localhost:8080/"
        },
        "id": "i04GZlNGgaWo",
        "outputId": "765722e7-be33-43cf-e087-ac8037e1e056"
      },
      "execution_count": null,
      "outputs": [
        {
          "output_type": "stream",
          "name": "stdout",
          "text": [
            "{'brand': 'fossil', 'model': 'hybrid smart', 'year': 2022}\n",
            "{'brand': 'fossil', 'model': 'hybrid smart', 'year': 2022}\n"
          ]
        }
      ]
    },
    {
      "cell_type": "code",
      "source": [
        "##add items\n",
        "watch =  {\n",
        " \"brand\":\"fossil\",\n",
        " \"model\":\"hybrid smart\",\n",
        " \"year\":1890\n",
        "}\n",
        "watch[\"color\"]=\"black\"\n",
        "print(watch)\n",
        "\n",
        "##update method\n",
        "watch =  {\n",
        " \"brand\":\"fossil\",\n",
        " \"model\":\"hybrid smart\",\n",
        " \"year\":1890\n",
        "}\n",
        "watch.update({\"color\":\"black\"})\n",
        "print(watch)"
      ],
      "metadata": {
        "id": "ucl_jp63hsTY",
        "colab": {
          "base_uri": "https://localhost:8080/"
        },
        "outputId": "68e8cec5-08dd-4ae0-b714-d8ff94793af9"
      },
      "execution_count": 3,
      "outputs": [
        {
          "output_type": "stream",
          "name": "stdout",
          "text": [
            "{'brand': 'fossil', 'model': 'hybrid smart', 'year': 1890, 'color': 'black'}\n",
            "{'brand': 'fossil', 'model': 'hybrid smart', 'year': 1890, 'color': 'black'}\n"
          ]
        }
      ]
    },
    {
      "cell_type": "code",
      "source": [
        "##remove items\n",
        "\n",
        "##pop\n",
        "watch =  {\n",
        " \"brand\":\"fossil\",\n",
        " \"model\":\"hybrid smart\",\n",
        " \"year\":1890\n",
        "}\n",
        "watch.pop(\"year\")\n",
        "print(watch)\n",
        "\n",
        "##pop item\n",
        "watch =  {\n",
        " \"brand\":\"fossil\",\n",
        " \"model\":\"hybrid smart\",\n",
        " \"year\":1890\n",
        "}\n",
        "watch.popitem()\n",
        "print(watch)\n",
        "\n",
        "##del\n",
        "watch =  {\n",
        " \"brand\":\"fossil\",\n",
        " \"model\":\"hybrid smart\",\n",
        " \"year\":1890\n",
        "}\n",
        "del watch[\"model\"]\n",
        "print(watch)\n",
        "\n",
        "##clear\n",
        "watch =  {\n",
        " \"brand\":\"fossil\",\n",
        " \"model\":\"hybrid smart\",\n",
        " \"year\":1890\n",
        "}\n",
        "watch.clear()\n",
        "print(watch)"
      ],
      "metadata": {
        "colab": {
          "base_uri": "https://localhost:8080/"
        },
        "id": "PEfwV6o9IGdW",
        "outputId": "cec47cd8-37f7-4070-c94c-2740598709b1"
      },
      "execution_count": 8,
      "outputs": [
        {
          "output_type": "stream",
          "name": "stdout",
          "text": [
            "{'brand': 'fossil', 'model': 'hybrid smart'}\n",
            "{'brand': 'fossil', 'model': 'hybrid smart'}\n",
            "{'brand': 'fossil', 'year': 1890}\n",
            "{}\n"
          ]
        }
      ]
    },
    {
      "cell_type": "code",
      "source": [
        "##loop dictionaries\n",
        "\n",
        "##for loop\n",
        "##all key names\n",
        "watch =  {\n",
        " \"brand\":\"fossil\",\n",
        " \"model\":\"hybrid smart\",\n",
        " \"year\":1890\n",
        "}\n",
        "for x in watch:\n",
        "  print(x)\n",
        "\n",
        "  ##all values in dictionary\n",
        "  watch =  {\n",
        " \"brand\":\"fossil\",\n",
        " \"model\":\"hybrid smart\",\n",
        " \"year\":1890\n",
        "}\n",
        "for x in watch:\n",
        "  print(watch[x])\n",
        "\n",
        "\n",
        "##values\n",
        "watch =  {\n",
        " \"brand\":\"fossil\",\n",
        " \"model\":\"hybrid smart\",\n",
        " \"year\":1890\n",
        "}\n",
        "for x in watch.values():\n",
        "  print(x)\n",
        "\n",
        "  ##keys\n",
        "  watch =  {\n",
        " \"brand\":\"fossil\",\n",
        " \"model\":\"hybrid smart\",\n",
        " \"year\":1890\n",
        "}\n",
        "for x in watch.keys():\n",
        "  print(x)\n",
        "\n"
      ],
      "metadata": {
        "colab": {
          "base_uri": "https://localhost:8080/"
        },
        "id": "IdBXfg9SKBNF",
        "outputId": "f81b656a-3e7d-43c6-99d6-c525f5356ae2"
      },
      "execution_count": 14,
      "outputs": [
        {
          "output_type": "stream",
          "name": "stdout",
          "text": [
            "brand\n",
            "model\n",
            "year\n",
            "fossil\n",
            "hybrid smart\n",
            "1890\n",
            "fossil\n",
            "hybrid smart\n",
            "1890\n",
            "brand\n",
            "model\n",
            "year\n"
          ]
        }
      ]
    },
    {
      "cell_type": "code",
      "source": [
        "##loop through both keys and values, by using the items() method:\n",
        "watch =  {\n",
        " \"brand\":\"fossil\",\n",
        " \"model\":\"hybrid smart\",\n",
        " \"year\":1890\n",
        "}\n",
        "for x, y in watch.items():\n",
        "  print(x, y)\n"
      ],
      "metadata": {
        "colab": {
          "base_uri": "https://localhost:8080/"
        },
        "id": "QkAv2ZHyLg2O",
        "outputId": "af789023-568d-439b-b7ec-dc0200fd7ede"
      },
      "execution_count": 16,
      "outputs": [
        {
          "output_type": "stream",
          "name": "stdout",
          "text": [
            "brand fossil\n",
            "model hybrid smart\n",
            "year 1890\n"
          ]
        }
      ]
    },
    {
      "cell_type": "code",
      "source": [
        "##copy dictionaries\n",
        "##copy\n",
        "watch =  {\n",
        " \"brand\":\"fossil\",\n",
        " \"model\":\"hybrid smart\",\n",
        " \"year\":1890\n",
        "}\n",
        "mywatch = watch.copy()\n",
        "print(mywatch)\n",
        "\n"
      ],
      "metadata": {
        "colab": {
          "base_uri": "https://localhost:8080/"
        },
        "id": "IX13vkKVL3VH",
        "outputId": "f1fd038d-02ee-481a-e796-a1342f3c3366"
      },
      "execution_count": 23,
      "outputs": [
        {
          "output_type": "stream",
          "name": "stdout",
          "text": [
            "{'brand': 'fossil', 'model': 'hybrid smart', 'year': 1890}\n"
          ]
        }
      ]
    },
    {
      "cell_type": "code",
      "source": [
        "##nested dictionaries\n",
        "#Create a dictionary that contain three dictionaries:\n",
        "myfamily = {\n",
        "  \"child1\" : {\n",
        "    \"name\" : \"Ankitha\",\n",
        "    \"year\" : 2002\n",
        "  },\n",
        "  \"child2\" : {\n",
        "    \"name\" : \"Anitha\",\n",
        "    \"year\" : 2003\n",
        "  },\n",
        "  \"child3\" : {\n",
        "    \"name\" : \"Sai\",\n",
        "    \"year\" : 2004\n",
        "  }\n",
        "}\n",
        "print(myfamily)"
      ],
      "metadata": {
        "colab": {
          "base_uri": "https://localhost:8080/"
        },
        "id": "40RrCUFhNtP6",
        "outputId": "94c724ca-e67f-4645-d433-b95e5bdca3a1"
      },
      "execution_count": 25,
      "outputs": [
        {
          "output_type": "stream",
          "name": "stdout",
          "text": [
            "{'child1': {'name': 'Ankitha', 'year': 2002}, 'child2': {'name': 'Anitha', 'year': 2003}, 'child3': {'name': 'Sai', 'year': 2004}}\n"
          ]
        }
      ]
    },
    {
      "cell_type": "code",
      "source": [
        "##Create three dictionaries, then create one dictionary that will contain the other three dictionaries:\n",
        "child1 = {\n",
        "  \"name\" : \"Ankitha\",\n",
        "  \"year\" : 2004\n",
        "}\n",
        "child2 = {\n",
        "  \"name\" : \"Anitha\",\n",
        "  \"year\" : 2007\n",
        "}\n",
        "child3 = {\n",
        "  \"name\" : \"sai\",\n",
        "  \"year\" : 2011\n",
        "}\n",
        "\n",
        "myfamily = {\n",
        "  \"child1\" : child1,\n",
        "  \"child2\" : child2,\n",
        "  \"child3\" : child3\n",
        "}\n",
        "\n",
        "print(myfamily)"
      ],
      "metadata": {
        "colab": {
          "base_uri": "https://localhost:8080/"
        },
        "id": "XZRG_MxCVMhK",
        "outputId": "deb2e9cd-a4f9-444f-970c-138ea8691d58"
      },
      "execution_count": 26,
      "outputs": [
        {
          "output_type": "stream",
          "name": "stdout",
          "text": [
            "{'child1': {'name': 'Ankitha', 'year': 2004}, 'child2': {'name': 'Anitha', 'year': 2007}, 'child3': {'name': 'sai', 'year': 2011}}\n"
          ]
        }
      ]
    }
  ]
}