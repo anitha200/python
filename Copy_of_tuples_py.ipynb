{
  "nbformat": 4,
  "nbformat_minor": 0,
  "metadata": {
    "colab": {
      "name": "Copy of  tuples.py",
      "provenance": [],
      "collapsed_sections": [],
      "authorship_tag": "ABX9TyNYu6vQOroYEE9KGkWzkCt5",
      "include_colab_link": true
    },
    "kernelspec": {
      "name": "python3",
      "display_name": "Python 3"
    },
    "language_info": {
      "name": "python"
    }
  },
  "cells": [
    {
      "cell_type": "markdown",
      "metadata": {
        "id": "view-in-github",
        "colab_type": "text"
      },
      "source": [
        "<a href=\"https://colab.research.google.com/github/anitha200/python/blob/main/Copy_of_tuples_py.ipynb\" target=\"_parent\"><img src=\"https://colab.research.google.com/assets/colab-badge.svg\" alt=\"Open In Colab\"/></a>"
      ]
    },
    {
      "cell_type": "code",
      "execution_count": null,
      "metadata": {
        "id": "L7rBCZeUYCnw",
        "colab": {
          "base_uri": "https://localhost:8080/"
        },
        "outputId": "6afccf18-1fb1-4848-bc50-6b728ce68954"
      },
      "outputs": [
        {
          "output_type": "stream",
          "name": "stdout",
          "text": [
            "('mango', 'banana', 'grapes')\n"
          ]
        }
      ],
      "source": [
        "##create a tuple\n",
        "fruittuple=(\"mango\",\"banana\",\"grapes\")\n",
        "print(fruittuple)"
      ]
    },
    {
      "cell_type": "code",
      "source": [
        "##allow duplicates\n",
        "fruits=(\"apple\",\"mango\",\"kiwi\")\n",
        "print(fruits)"
      ],
      "metadata": {
        "colab": {
          "base_uri": "https://localhost:8080/"
        },
        "id": "pzHqDSRybhKL",
        "outputId": "24383c2f-059c-4c92-f048-1499fd1c5877"
      },
      "execution_count": null,
      "outputs": [
        {
          "output_type": "stream",
          "name": "stdout",
          "text": [
            "('apple', 'mango', 'kiwi')\n"
          ]
        }
      ]
    },
    {
      "cell_type": "code",
      "source": [
        "##tuple length\n",
        "fruits=(\"apple\",\"mango\",\"kiwi\",\"grapes\")\n",
        "print(len(fruits))"
      ],
      "metadata": {
        "colab": {
          "base_uri": "https://localhost:8080/"
        },
        "id": "ANxvFAXyb7Kc",
        "outputId": "522a6c71-bb40-4f68-a7d0-9d34e0639839"
      },
      "execution_count": null,
      "outputs": [
        {
          "output_type": "stream",
          "name": "stdout",
          "text": [
            "4\n"
          ]
        }
      ]
    },
    {
      "cell_type": "code",
      "source": [
        "##tuple data types\n",
        "fruits=(\"kiwi\",\"grapes\",\"mango\")\n",
        "num=(3,5,1,6)\n",
        "alph=(\"true\",\"false\",\"false\")\n",
        "print(fruits)\n",
        "print(num)\n",
        "print(alph)"
      ],
      "metadata": {
        "id": "Fsx0n3AncLn6",
        "colab": {
          "base_uri": "https://localhost:8080/"
        },
        "outputId": "b62046ba-0b6e-4c91-ddbd-cd1d8ba9e41b"
      },
      "execution_count": null,
      "outputs": [
        {
          "output_type": "stream",
          "name": "stdout",
          "text": [
            "('kiwi', 'grapes', 'mango')\n",
            "(3, 5, 1, 6)\n",
            "('true', 'false', 'false')\n"
          ]
        }
      ]
    },
    {
      "cell_type": "code",
      "source": [
        "##A tuple with strings, integers and boolean values:\n",
        "lists=(\"female\",89,90,\"abc\")\n",
        "print(lists)"
      ],
      "metadata": {
        "colab": {
          "base_uri": "https://localhost:8080/"
        },
        "id": "72wPF3Q8sY6J",
        "outputId": "d112933b-77ca-4c4b-b636-16f684af7223"
      },
      "execution_count": null,
      "outputs": [
        {
          "output_type": "stream",
          "name": "stdout",
          "text": [
            "('female', 89, 90, 'abc')\n"
          ]
        }
      ]
    },
    {
      "cell_type": "code",
      "source": [
        "##acess tuple\n",
        "fruits=(\"apple\",\"mango\",\"kiwi\")\n",
        "print(fruits[1])"
      ],
      "metadata": {
        "id": "WSt9WtJUuxG_",
        "outputId": "85823053-55a7-42c7-a98e-6e269202cd58",
        "colab": {
          "base_uri": "https://localhost:8080/"
        }
      },
      "execution_count": null,
      "outputs": [
        {
          "output_type": "stream",
          "name": "stdout",
          "text": [
            "mango\n"
          ]
        }
      ]
    },
    {
      "cell_type": "code",
      "source": [
        "fruits=(\"apple\",\"mango\",\"kiwi\")\n",
        "print(fruits[-1])"
      ],
      "metadata": {
        "id": "_GSUh2c5wq5H",
        "outputId": "b07ebef2-ec8a-4804-fa04-53785195f467",
        "colab": {
          "base_uri": "https://localhost:8080/"
        }
      },
      "execution_count": null,
      "outputs": [
        {
          "output_type": "stream",
          "name": "stdout",
          "text": [
            "kiwi\n"
          ]
        }
      ]
    },
    {
      "cell_type": "code",
      "source": [
        "##range of the idex\n",
        "fruits=(\"apple\",\"mango\",\"grapes\",\"kiwi\",\"papaya\")\n",
        "print(fruits[1:4])"
      ],
      "metadata": {
        "colab": {
          "base_uri": "https://localhost:8080/"
        },
        "id": "R3Ny5CWPvyYK",
        "outputId": "9cb9b597-66fe-4d29-a2c3-7e6e8645622b"
      },
      "execution_count": null,
      "outputs": [
        {
          "output_type": "stream",
          "name": "stdout",
          "text": [
            "('mango', 'grapes', 'kiwi')\n"
          ]
        }
      ]
    },
    {
      "cell_type": "code",
      "source": [
        "##not included the papaya\n",
        "fruits=(\"apple\",\"mango\",\"grapes\",\"kiwi\",\"papaya\")\n",
        "print(fruits[:4])"
      ],
      "metadata": {
        "colab": {
          "base_uri": "https://localhost:8080/"
        },
        "id": "rRr_igonxDsC",
        "outputId": "5ebc792f-41bd-4627-ec8a-087bc677c3b5"
      },
      "execution_count": null,
      "outputs": [
        {
          "output_type": "stream",
          "name": "stdout",
          "text": [
            "('apple', 'mango', 'grapes', 'kiwi')\n"
          ]
        }
      ]
    },
    {
      "cell_type": "code",
      "source": [
        "##\n",
        "a=(\"pink\",\"white\",\"red\",\"blue\",\"yellow\")\n",
        "print(a[1:])"
      ],
      "metadata": {
        "colab": {
          "base_uri": "https://localhost:8080/"
        },
        "id": "e7BFLEkNxVLA",
        "outputId": "e74227ae-ee6a-4860-e4f7-a6df05cd995b"
      },
      "execution_count": null,
      "outputs": [
        {
          "output_type": "stream",
          "name": "stdout",
          "text": [
            "('white', 'red', 'blue', 'yellow')\n"
          ]
        }
      ]
    },
    {
      "cell_type": "code",
      "source": [
        "##negative ranging\n",
        "a=(\"pink\",\"white\",\"red\",\"blue\",\"yellow\")\n",
        "print(a[-3:-1])"
      ],
      "metadata": {
        "colab": {
          "base_uri": "https://localhost:8080/"
        },
        "id": "DTmYpqUyyXMa",
        "outputId": "e41113e9-7cc4-4b49-c26b-28731e3ef813"
      },
      "execution_count": null,
      "outputs": [
        {
          "output_type": "stream",
          "name": "stdout",
          "text": [
            "('red', 'blue')\n"
          ]
        }
      ]
    },
    {
      "cell_type": "code",
      "source": [
        "##check the red is in tuple or not\n",
        "a=(\"pink\",\"white\",\"red\",\"blue\",\"yellow\")\n",
        "if \"red\" in a:\n",
        "  print(\"yes,'red' in a\")"
      ],
      "metadata": {
        "colab": {
          "base_uri": "https://localhost:8080/"
        },
        "id": "RSY1VmB6ysvV",
        "outputId": "0335e398-76a9-4e16-cda8-847054c6a074"
      },
      "execution_count": null,
      "outputs": [
        {
          "output_type": "stream",
          "name": "stdout",
          "text": [
            "yes,'red' in a\n"
          ]
        }
      ]
    },
    {
      "cell_type": "code",
      "source": [
        "##update tuples\n",
        "##tuple into lists\n",
        "a=(\"pink\",\"white\",\"red\",\"blue\",\"yellow\")\n",
        "b=list(a)\n",
        "b[2]=\"green\"\n",
        "a=tuple(b)\n",
        "print(a)\n",
        "\n",
        "##add items\n",
        "a=(\"pink\",\"white\",\"red\",\"blue\",\"yellow\")\n",
        "b=list(a)\n",
        "b.append(\"purple\")\n",
        "a=tuple(b)\n",
        "print(a)\n",
        "\n",
        "##remove items\n",
        "a=(\"pink\",\"white\",\"red\",\"blue\",\"yellow\")\n",
        "b=list(a)\n",
        "b.remove(\"red\")\n",
        "a=tuple(b)\n",
        "print(a)\n",
        "\n"
      ],
      "metadata": {
        "colab": {
          "base_uri": "https://localhost:8080/"
        },
        "id": "gZ3D-8LyzZax",
        "outputId": "b1ce5f9a-5cfb-47be-bc80-2e7fe87fba39"
      },
      "execution_count": null,
      "outputs": [
        {
          "output_type": "stream",
          "name": "stdout",
          "text": [
            "('pink', 'white', 'green', 'blue', 'yellow')\n",
            "('pink', 'white', 'red', 'blue', 'yellow', 'purple')\n",
            "('pink', 'white', 'blue', 'yellow')\n"
          ]
        }
      ]
    },
    {
      "cell_type": "code",
      "source": [
        "##add tuple to a tuple\n",
        "a=(\"pink\",\"white\",\"red\",\"blue\",\"yellow\")\n",
        "b=(\"green\",)\n",
        "a+=b\n",
        "print(a)"
      ],
      "metadata": {
        "colab": {
          "base_uri": "https://localhost:8080/"
        },
        "id": "ITKGBG8Z1lZb",
        "outputId": "dfd116fa-008b-4a6d-ace1-e9b983cc02f4"
      },
      "execution_count": null,
      "outputs": [
        {
          "output_type": "stream",
          "name": "stdout",
          "text": [
            "('pink', 'white', 'red', 'blue', 'yellow', 'green')\n"
          ]
        }
      ]
    },
    {
      "cell_type": "code",
      "source": [
        "##unpack tuples\n",
        "##packing tuple\n",
        "a=(\"pink\",\"white\",\"red\",\"blue\",\"yellow\")\n",
        "print(a)\n",
        "\n",
        "##unpacking a tuple\n",
        "a=(\"pink\",\"white\",\"red\",\"blue\")\n",
        "(apple,banana,grapes,mango)=a\n",
        "print(apple)\n",
        "print(banana)\n",
        "print(grapes)\n",
        "print(mango)\n",
        "\n",
        "##Using Asterisk*\n",
        "a=(\"pink\",\"white\",\"red\",\"blue\")\n",
        "(apple,*banana)=a\n",
        "print(apple)\n",
        "print(banana)\n",
        "\n",
        "##tropic variable\n",
        "a=(\"pink\",\"white\",\"red\",\"blue\")\n",
        "(apple,*tropic,grapes)=a\n",
        "print(apple)\n",
        "print(tropic)\n",
        "print(grapes)\n",
        "\n",
        "\n",
        "\n"
      ],
      "metadata": {
        "colab": {
          "base_uri": "https://localhost:8080/"
        },
        "id": "3Cs-Y7vS2Rt5",
        "outputId": "291c7670-1965-47ae-ccea-2f13cd87d42d"
      },
      "execution_count": null,
      "outputs": [
        {
          "output_type": "stream",
          "name": "stdout",
          "text": [
            "('pink', 'white', 'red', 'blue', 'yellow')\n",
            "pink\n",
            "white\n",
            "red\n",
            "blue\n",
            "pink\n",
            "['white', 'red', 'blue']\n",
            "pink\n",
            "['white', 'red']\n",
            "blue\n"
          ]
        }
      ]
    },
    {
      "cell_type": "code",
      "source": [
        "##loop tuples\n",
        "##for\n",
        "a=(\"pink\",\"white\",\"red\",\"blue\")\n",
        "for x in a:\n",
        "  print(x)\n",
        "\n",
        "##use range and len\n",
        "a=(\"pink\",\"white\",\"red\",\"blue\")\n",
        "for i in range(len(a)):\n",
        "  print(a[i])\n"
      ],
      "metadata": {
        "colab": {
          "base_uri": "https://localhost:8080/"
        },
        "id": "WCwLxbir2xSR",
        "outputId": "4a2ac89d-dfe9-454c-cf38-196d69fc56b2"
      },
      "execution_count": null,
      "outputs": [
        {
          "output_type": "stream",
          "name": "stdout",
          "text": [
            "pink\n",
            "white\n",
            "red\n",
            "blue\n",
            "pink\n",
            "white\n",
            "red\n",
            "blue\n"
          ]
        }
      ]
    },
    {
      "cell_type": "code",
      "source": [
        "##while loop\n",
        "a=(\"pink\",\"white\",\"red\",\"blue\")\n",
        "i=0\n",
        "while i<len(a):\n",
        "  print(a[i])\n",
        "  i=i+1"
      ],
      "metadata": {
        "colab": {
          "base_uri": "https://localhost:8080/"
        },
        "id": "aSnIBEIC9a4q",
        "outputId": "2635ef2d-5693-417b-fb39-367008a8c9d4"
      },
      "execution_count": null,
      "outputs": [
        {
          "output_type": "stream",
          "name": "stdout",
          "text": [
            "pink\n",
            "white\n",
            "red\n",
            "blue\n"
          ]
        }
      ]
    },
    {
      "cell_type": "code",
      "source": [
        "##join tuples\n",
        "x=(\"f\",\"g\",\"h\")\n",
        "y=(2,7,2)\n",
        "z=x+y\n",
        "print(z)\n",
        "\n",
        "##multiply\n",
        "a=(\"cat\",\"rat\",\"rabit\")\n",
        "b=a*3\n",
        "print(b)"
      ],
      "metadata": {
        "colab": {
          "base_uri": "https://localhost:8080/"
        },
        "id": "3cY0oAvC-WCw",
        "outputId": "406e32b2-a986-4aa4-f0d1-293dc0a456f6"
      },
      "execution_count": null,
      "outputs": [
        {
          "output_type": "stream",
          "name": "stdout",
          "text": [
            "('f', 'g', 'h', 2, 7, 2)\n",
            "('cat', 'rat', 'rabit', 'cat', 'rat', 'rabit', 'cat', 'rat', 'rabit')\n"
          ]
        }
      ]
    }
  ]
}