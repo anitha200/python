{
  "nbformat": 4,
  "nbformat_minor": 0,
  "metadata": {
    "colab": {
      "name": "Copy of sets",
      "provenance": [],
      "authorship_tag": "ABX9TyN+Xn1OlhWZGCatp7rsBSNt",
      "include_colab_link": true
    },
    "kernelspec": {
      "name": "python3",
      "display_name": "Python 3"
    },
    "language_info": {
      "name": "python"
    }
  },
  "cells": [
    {
      "cell_type": "markdown",
      "metadata": {
        "id": "view-in-github",
        "colab_type": "text"
      },
      "source": [
        "<a href=\"https://colab.research.google.com/github/anitha200/python/blob/main/Copy_of_sets.ipynb\" target=\"_parent\"><img src=\"https://colab.research.google.com/assets/colab-badge.svg\" alt=\"Open In Colab\"/></a>"
      ]
    },
    {
      "cell_type": "code",
      "execution_count": null,
      "metadata": {
        "colab": {
          "base_uri": "https://localhost:8080/"
        },
        "id": "ViAtvTYRAQdq",
        "outputId": "aba42ffd-2e31-4ca7-84c3-e37ee86c4568"
      },
      "outputs": [
        {
          "output_type": "stream",
          "name": "stdout",
          "text": [
            "{'rabit', 'lion', 'rat', 'cat'}\n"
          ]
        }
      ],
      "source": [
        "##create a set\n",
        "a={\"rat\",\"cat\",\"rabit\",\"lion\"}\n",
        "print(a)"
      ]
    },
    {
      "cell_type": "code",
      "source": [
        "##duplicates not allowed\n",
        "a={\"rat\",\"cat\",\"rabit\",\"lion\",\"rat\"}\n",
        "print(a)\n",
        "\n",
        "##length of a set\n",
        "a={\"rat\",\"cat\",\"rabit\",\"lion\"}\n",
        "print(len(a))"
      ],
      "metadata": {
        "colab": {
          "base_uri": "https://localhost:8080/"
        },
        "id": "h6l37slABSTL",
        "outputId": "5a476bbc-fd7b-4a64-dee6-cf948e265fb7"
      },
      "execution_count": null,
      "outputs": [
        {
          "output_type": "stream",
          "name": "stdout",
          "text": [
            "{'rabit', 'lion', 'rat', 'cat'}\n",
            "4\n"
          ]
        }
      ]
    },
    {
      "cell_type": "code",
      "source": [
        "##boolean values\n",
        "sets = {\"abc\", 16, True, 17, \"male\"}\n",
        "print(sets)"
      ],
      "metadata": {
        "colab": {
          "base_uri": "https://localhost:8080/"
        },
        "id": "hBgYg0EaCKDM",
        "outputId": "27111e55-aed4-4683-e92b-9ad4677f017c"
      },
      "execution_count": 1,
      "outputs": [
        {
          "output_type": "stream",
          "name": "stdout",
          "text": [
            "{True, 'male', 16, 17, 'abc'}\n"
          ]
        }
      ]
    },
    {
      "cell_type": "code",
      "source": [
        "##access set items\n",
        "\n",
        "##for loop\n",
        "a={\"rat\",\"cat\",\"rabit\",\"lion\"}\n",
        "for x in a:\n",
        "  print(x)\n",
        "\n",
        "  ##check lion in that list\n",
        "a={\"rat\",\"cat\",\"rabit\",\"lion\"}\n",
        "print(\"lion\" in a)\n"
      ],
      "metadata": {
        "colab": {
          "base_uri": "https://localhost:8080/"
        },
        "id": "_loaTaBvIUkj",
        "outputId": "ed8ca6fb-4ec9-4fc1-98ed-f50270c1c8c1"
      },
      "execution_count": 4,
      "outputs": [
        {
          "output_type": "stream",
          "name": "stdout",
          "text": [
            "lion\n",
            "cat\n",
            "rat\n",
            "rabit\n",
            "True\n"
          ]
        }
      ]
    },
    {
      "cell_type": "code",
      "source": [
        "##add set items\n",
        "\n",
        "#add method\n",
        "a={\"rat\",\"cat\",\"rabit\",\"lion\"}\n",
        "a.add(\"parrot\")\n",
        "print(a)\n",
        "\n",
        "##To add items from another set into the current set, use the update() method.\n",
        "a={\"rat\",\"cat\",\"rabit\",\"lion\"}\n",
        "b={\"ant\",\"dog\",\"tiger\",\"elephant\"}\n",
        "a.update(b)\n",
        "print(a)\n",
        "\n",
        "##The object in the update() method does not have to be a set, it can be any iterable object (tuples, lists, dictionaries etc.\n",
        "a={\"rat\",\"cat\",\"rabit\",\"lion\"}\n",
        "b=[\"ant\",\"dog\",\"tiger\",\"elephant\"]\n",
        "a.update(b)\n",
        "print(a)"
      ],
      "metadata": {
        "colab": {
          "base_uri": "https://localhost:8080/"
        },
        "id": "auQKEl27KJ6P",
        "outputId": "cbc0ff29-9bab-47d5-b05c-f91117732950"
      },
      "execution_count": 8,
      "outputs": [
        {
          "output_type": "stream",
          "name": "stdout",
          "text": [
            "{'lion', 'parrot', 'rabit', 'rat', 'cat'}\n",
            "{'lion', 'elephant', 'tiger', 'ant', 'dog', 'rabit', 'rat', 'cat'}\n",
            "{'lion', 'elephant', 'tiger', 'ant', 'dog', 'rabit', 'rat', 'cat'}\n"
          ]
        }
      ]
    },
    {
      "cell_type": "code",
      "source": [
        "##remove set items\n",
        "#use remove or dicard\n",
        "a={\"ant\",\"cat\",\"rat\",\"lion\"}\n",
        "a.remove(\"cat\")\n",
        "print(a)\n",
        "\n",
        "##pop method\n",
        "a={\"ant\",\"cat\",\"rat\",\"lion\"}\n",
        "x=a.pop()\n",
        "print(x)\n",
        "print(a)\n",
        "\n",
        "##clear method\n",
        "a={\"ant\",\"cat\",\"rat\",\"lion\"}\n",
        "a.clear()\n",
        "print(a)\n",
        "\n",
        "##del m"
      ],
      "metadata": {
        "colab": {
          "base_uri": "https://localhost:8080/"
        },
        "id": "dUc6g86rL0HQ",
        "outputId": "c2c19e02-04f7-4e89-d6d9-f6edb66d1331"
      },
      "execution_count": 12,
      "outputs": [
        {
          "output_type": "stream",
          "name": "stdout",
          "text": [
            "{'rat', 'lion', 'ant'}\n",
            "rat\n",
            "{'lion', 'cat', 'ant'}\n",
            "set()\n"
          ]
        }
      ]
    }
  ]
}