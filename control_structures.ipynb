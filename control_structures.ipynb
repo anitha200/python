{
  "nbformat": 4,
  "nbformat_minor": 0,
  "metadata": {
    "colab": {
      "name": "control structures",
      "provenance": [],
      "collapsed_sections": [],
      "authorship_tag": "ABX9TyOEUrHantRJxpXzLW6QI/WL",
      "include_colab_link": true
    },
    "kernelspec": {
      "name": "python3",
      "display_name": "Python 3"
    },
    "language_info": {
      "name": "python"
    }
  },
  "cells": [
    {
      "cell_type": "markdown",
      "metadata": {
        "id": "view-in-github",
        "colab_type": "text"
      },
      "source": [
        "<a href=\"https://colab.research.google.com/github/anitha200/python/blob/main/control_structures.ipynb\" target=\"_parent\"><img src=\"https://colab.research.google.com/assets/colab-badge.svg\" alt=\"Open In Colab\"/></a>"
      ]
    },
    {
      "cell_type": "code",
      "execution_count": null,
      "metadata": {
        "colab": {
          "base_uri": "https://localhost:8080/"
        },
        "id": "Nqa2lF3wMMqw",
        "outputId": "f5885d22-b11f-4409-e7f6-f9199e41520b"
      },
      "outputs": [
        {
          "output_type": "stream",
          "name": "stdout",
          "text": [
            "enter the first side1\n",
            "enter the second side1\n",
            "enter the third side1\n",
            "equilateral triangle\n"
          ]
        }
      ],
      "source": [
        "## triangle is equii,isosceles,scalene\n",
        "a=int(input(\"enter the first side\"))\n",
        "b=int(input(\"enter the second side\"))\n",
        "c=int(input(\"enter the third side\"))\n",
        "if a==b==c:\n",
        "  print(\"equilateral triangle\")\n",
        "elif a>b and b==c:\n",
        "  print(\"isosceles triangle\")\n",
        "else :\n",
        "  print(\"scalene triangle\")"
      ]
    },
    {
      "cell_type": "code",
      "source": [
        "## leap year or not a leap year\n",
        "a=int(input(\"enter the year\"))\n",
        "if a%400==0 and a%100==0:\n",
        "   print(\"leap year\")\n",
        "else:\n",
        "   print(\"not leap year\")"
      ],
      "metadata": {
        "colab": {
          "base_uri": "https://localhost:8080/"
        },
        "id": "7e8f4mTjRdmW",
        "outputId": "1730095b-eb91-46cf-bf2c-337b569cd88f"
      },
      "execution_count": null,
      "outputs": [
        {
          "output_type": "stream",
          "name": "stdout",
          "text": [
            "enter the year2004\n",
            "not leap year\n"
          ]
        }
      ]
    },
    {
      "cell_type": "code",
      "source": [
        "## minimum of 3 numbers\n",
        "a=int(input(\"enter a first  number\"))\n",
        "b=int(input(\"enter a second number\"))\n",
        "c=int(input(\"enter a third number\"))\n",
        "if a>b and a>c:\n",
        "  print(\"a is minimum\")\n",
        "elif b>a and b>c:\n",
        "  print(\"b is minimum\")\n",
        "else:\n",
        "  print(\"c is minimun\")\n"
      ],
      "metadata": {
        "colab": {
          "base_uri": "https://localhost:8080/"
        },
        "id": "lB78vwd4TPQW",
        "outputId": "d8804501-a4fd-42d8-c77c-d5d94d7c1a45"
      },
      "execution_count": null,
      "outputs": [
        {
          "output_type": "stream",
          "name": "stdout",
          "text": [
            "enter a first  number1\n",
            "enter a second number4\n",
            "enter a third number2\n",
            "b is minimum\n"
          ]
        }
      ]
    },
    {
      "cell_type": "code",
      "source": [
        "## divisible by 5 and 11 or not\n",
        "a=int(input(\"enter a   number\"))\n",
        "if a%5==0 and a%11==0:\n",
        "  print(\"it is divisible\")\n",
        "else:\n",
        "    print(\"it is not  divisible\")\n",
        "\n"
      ],
      "metadata": {
        "colab": {
          "base_uri": "https://localhost:8080/"
        },
        "id": "Zc5i4MeKVzzv",
        "outputId": "82bead05-8811-4a70-83bd-f6999732e22f"
      },
      "execution_count": null,
      "outputs": [
        {
          "output_type": "stream",
          "name": "stdout",
          "text": [
            "enter a   number33\n",
            "it is not  divisible\n"
          ]
        }
      ]
    }
  ]
}